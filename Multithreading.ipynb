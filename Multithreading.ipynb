{
 "cells": [
  {
   "cell_type": "markdown",
   "id": "fc24bc09",
   "metadata": {},
   "source": [
    " Q1. What is multithreading in python? Why is it used? Name the module used to handle threads in python"
   ]
  },
  {
   "cell_type": "code",
   "execution_count": null,
   "id": "b04fced8",
   "metadata": {},
   "outputs": [],
   "source": [
    "# Answer\n",
    "'''\n",
    "Multithreading in Python refers to the concurrent execution of multiple threads within a single program.\n",
    "'''"
   ]
  },
  {
   "cell_type": "markdown",
   "id": "680fe1c5",
   "metadata": {},
   "source": [
    "Multithreading is used in Python for various reasons:\n",
    "\n",
    "- Improved Performance\n",
    "- Responsiveness\n",
    "- Asynchronous Programming\n",
    "- Concurrent Operations\n",
    "\n",
    "The threading module is used to handle threads in Python. "
   ]
  },
  {
   "cell_type": "markdown",
   "id": "26473e22",
   "metadata": {},
   "source": [
    "Q2. why the threading module used? write the use of the following functions\n",
    "1. active count\n",
    "2. currentThread\n",
    "3. enumerate"
   ]
  },
  {
   "cell_type": "markdown",
   "id": "9f6a255a",
   "metadata": {},
   "source": [
    "Answer -\n",
    "\n",
    "The threading module in Python is used to handle threads and provides a higher-level interface for creating, managing, and synchronizing threads. \n",
    "- The activeCount() function is used to retrieve the number of currently active threads.\n",
    "- The currentThread() function is used to retrieve the currently executing Thread object.\n",
    "- The enumerate() function is used to retrieve a list of all currently active Thread objects."
   ]
  },
  {
   "cell_type": "markdown",
   "id": "71b492f1",
   "metadata": {},
   "source": [
    "Q3. Explain the following functions\n",
    "1.run()\n",
    "2.start()\n",
    "3.join()\n",
    "4.isAlive()"
   ]
  },
  {
   "cell_type": "markdown",
   "id": "2e7d16dc",
   "metadata": {},
   "source": [
    "- run() - The run() function is not directly invoked by the programmer. Instead, it is automatically called when a Thread object's start() method is called.\n",
    "- start() - The start() function is used to start the execution of a Thread object.\n",
    "- join() - The join() function is used to wait for the completion of a thread before continuing with the execution of the main program.\n",
    "- isAlive() - The isAlive() function is used to check if a Thread object is currently active or alive."
   ]
  },
  {
   "cell_type": "markdown",
   "id": "05dcbc68",
   "metadata": {},
   "source": [
    "Q4. Write a python program to create two threads. Thread one must print the list of squares and thread\n",
    "two must print the list of cubes."
   ]
  },
  {
   "cell_type": "code",
   "execution_count": null,
   "id": "3f03d322",
   "metadata": {},
   "outputs": [],
   "source": [
    "import threading\n",
    "\n",
    "def print_squares():\n",
    "    squares = [n**2 for n in range(1, 11)]\n",
    "    print(\"List of squares:\", squares)\n",
    "\n",
    "def print_cubes():\n",
    "    cubes = [n**3 for n in range(1, 11)]\n",
    "    print(\"List of cubes:\", cubes)\n",
    "\n",
    "# Create threads\n",
    "t1 = threading.Thread(target=print_squares)\n",
    "t2 = threading.Thread(target=print_cubes)\n",
    "\n",
    "# Start threads\n",
    "t1.start()\n",
    "t2.start()\n",
    "\n",
    "# Wait for both threads to finish\n",
    "t1.join()\n",
    "t2.join()\n",
    "\n",
    "print(\"Main thread exiting\")\n"
   ]
  },
  {
   "cell_type": "markdown",
   "id": "a63c7c79",
   "metadata": {},
   "source": [
    "Q5. State advantages and disadvantages of multithreading"
   ]
  },
  {
   "cell_type": "markdown",
   "id": "1210e11e",
   "metadata": {},
   "source": [
    "Advantages of Multithreading:\n",
    "\n",
    "Improved Performance\n",
    "Responsiveness and User Experience\n",
    "Asynchronous Programming\n",
    "Resource Sharing\n",
    "\n",
    "Disadvantages of Multithreading:\n",
    "\n",
    "Complexity and Synchronization\n",
    "Increased Debugging Complexity\n",
    "Overhead and Resource Consumption\n",
    "Scalability Limitations"
   ]
  },
  {
   "cell_type": "markdown",
   "id": "f8f5d3ee",
   "metadata": {},
   "source": [
    "Q6. Explain deadlocks and race conditions."
   ]
  },
  {
   "cell_type": "markdown",
   "id": "a67d68d8",
   "metadata": {},
   "source": [
    "# Deadlocks\n",
    "A deadlock is a situation where two or more threads or processes are unable to proceed because each is waiting for the other to release a resource.Deadlocks occur when there is a circular dependency between two or more threads or processes, and each holds a resource while waiting for another resource to be released.\n",
    "Deadlocks typically occur when four conditions are met: mutual exclusion, hold and wait, no preemption, and circular wait."
   ]
  },
  {
   "cell_type": "markdown",
   "id": "dff0f60b",
   "metadata": {},
   "source": [
    "# Race conditions\n",
    "A race condition occurs when the behavior of a program depends on the relative timing or interleaving of multiple threads or processes.\n",
    "It arises when multiple threads access and manipulate shared data concurrently, and the final outcome of the program becomes non-deterministic and dependent on the particular order of execution.\n",
    "Race conditions can lead to unexpected and erroneous results due to inconsistencies in the shared data."
   ]
  }
 ],
 "metadata": {
  "kernelspec": {
   "display_name": "Python 3 (ipykernel)",
   "language": "python",
   "name": "python3"
  },
  "language_info": {
   "codemirror_mode": {
    "name": "ipython",
    "version": 3
   },
   "file_extension": ".py",
   "mimetype": "text/x-python",
   "name": "python",
   "nbconvert_exporter": "python",
   "pygments_lexer": "ipython3",
   "version": "3.10.5"
  }
 },
 "nbformat": 4,
 "nbformat_minor": 5
}
