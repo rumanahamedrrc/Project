{
 "cells": [
  {
   "cell_type": "markdown",
   "id": "aa364e27",
   "metadata": {},
   "source": [
    "Q1. Explain why we have to use the Exception class while creating a Custom Exception.\n",
    "Note: Here Exception class refers to the base class for all the exceptions."
   ]
  },
  {
   "cell_type": "markdown",
   "id": "98443bbd",
   "metadata": {},
   "source": [
    "Answer -\n",
    "\n",
    "When creating a custom exception in Python, it is generally recommended to derive the custom exception class from the Exception class or one of its existing subclasses. The Exception class serves as the base class for all built-in exceptions in Python, and it provides a foundation with essential features and behaviors that are necessary for proper exception handling.\n",
    "\n",
    "Here are a few reasons why we use the Exception class as the base class for custom exceptions:\n",
    "\n",
    "Inheritance: Deriving from the Exception class allows the custom exception to inherit the common behaviors and attributes of the base class. This includes essential methods like __init__() for initialization, __str__() for providing an error message, and __repr__() for representing the exception object as a string.\n",
    "\n",
    "Consistency and Conventions: By inheriting from the Exception class, custom exceptions adhere to the conventions followed by built-in exceptions. This helps maintain consistency in exception handling across different parts of the codebase and makes it easier for developers to understand and handle custom exceptions.\n",
    "\n",
    "Compatibility: Inheriting from the Exception class ensures that custom exceptions are compatible with existing exception handling mechanisms in Python. Code that expects to catch and handle exceptions of type Exception or its subclasses can handle custom exceptions without any modifications.\n",
    "\n",
    "Exception Hierarchy: The Exception class is part of a well-defined hierarchy of exception classes in Python. By using it as the base class, custom exceptions become part of this hierarchy and can be categorized and handled alongside other exception types effectively."
   ]
  },
  {
   "cell_type": "markdown",
   "id": "a96fdc16",
   "metadata": {},
   "source": [
    "Q2. Write a python program to print Python Exception Hierarchy."
   ]
  },
  {
   "cell_type": "code",
   "execution_count": null,
   "id": "0e544ead",
   "metadata": {},
   "outputs": [],
   "source": [
    "def print_exception_hierarchy(exception_class, indent=0):\n",
    "    print(\" \" * indent + exception_class.__name__)\n",
    "    for subclass in exception_class.__subclasses__():\n",
    "        print_exception_hierarchy(subclass, indent + 4)\n",
    "\n",
    "print_exception_hierarchy(Exception)\n"
   ]
  },
  {
   "cell_type": "markdown",
   "id": "b0a0439c",
   "metadata": {},
   "source": [
    "Q3. What errors are defined in the ArithmeticError class? Explain any two with an example."
   ]
  },
  {
   "cell_type": "markdown",
   "id": "3c762fcc",
   "metadata": {},
   "source": [
    "Answer - \n",
    "\n",
    "The ArithmeticError class in Python is a base class for exceptions related to arithmetic operations. It serves as a superclass for several specific arithmetic-related exception classes. Two common errors defined in the ArithmeticError class are ZeroDivisionError and OverflowError."
   ]
  },
  {
   "cell_type": "code",
   "execution_count": null,
   "id": "1c2f9ef5",
   "metadata": {},
   "outputs": [],
   "source": [
    "# ZeroDivisionError\n",
    "try:\n",
    "    result = 10 / 0\n",
    "except ZeroDivisionError as e:\n",
    "    print(\"Error:\", e)\n"
   ]
  },
  {
   "cell_type": "code",
   "execution_count": null,
   "id": "2879bdfc",
   "metadata": {},
   "outputs": [],
   "source": [
    "#OverflowError"
   ]
  },
  {
   "cell_type": "code",
   "execution_count": null,
   "id": "97c1852e",
   "metadata": {},
   "outputs": [],
   "source": [
    "import sys\n",
    "\n",
    "try:\n",
    "    result = sys.maxsize + 1\n",
    "except OverflowError as e:\n",
    "    print(\"Error:\", e)\n"
   ]
  },
  {
   "cell_type": "markdown",
   "id": "88e2c448",
   "metadata": {},
   "source": [
    "Q4. Why LookupError class is used? Explain with an example KeyError and IndexError."
   ]
  },
  {
   "cell_type": "markdown",
   "id": "a8de2f6d",
   "metadata": {},
   "source": [
    "Answer - \n",
    "\n",
    "The LookupError class in Python is a base class for exceptions related to lookup operations. It serves as a superclass for specific lookup-related exception classes, including KeyError and IndexError. "
   ]
  },
  {
   "cell_type": "code",
   "execution_count": null,
   "id": "44d25fc5",
   "metadata": {},
   "outputs": [],
   "source": [
    "# KeyError\n",
    "dictionary = {\"apple\": \"red\", \"banana\": \"yellow\"}\n",
    "\n",
    "try:\n",
    "    value = dictionary[\"grape\"]\n",
    "except KeyError as e:\n",
    "    print(\"Error:\", e)\n"
   ]
  },
  {
   "cell_type": "code",
   "execution_count": null,
   "id": "ca65411d",
   "metadata": {},
   "outputs": [],
   "source": [
    "# IndexError\n",
    "my_list = [1, 2, 3]\n",
    "\n",
    "try:\n",
    "    value = my_list[5]\n",
    "except IndexError as e:\n",
    "    print(\"Error:\", e)\n"
   ]
  },
  {
   "cell_type": "markdown",
   "id": "c822d321",
   "metadata": {},
   "source": [
    "Q5. Explain ImportError. What is ModuleNotFoundError?"
   ]
  },
  {
   "cell_type": "markdown",
   "id": "6db52b8f",
   "metadata": {},
   "source": [
    "Answer -\n",
    "\n",
    "ImportError and ModuleNotFoundError are both exception classes in Python that are raised when there are issues with importing modules or packages. While ImportError is a more general exception, ModuleNotFoundError is a specific subclass introduced in Python 3.6 to provide clearer error messages."
   ]
  },
  {
   "cell_type": "markdown",
   "id": "b4e8046e",
   "metadata": {},
   "source": [
    "Q6. List down some best practices for exception handling in python."
   ]
  },
  {
   "cell_type": "markdown",
   "id": "29c36f80",
   "metadata": {},
   "source": [
    "Answer - \n",
    "Some best practices for exception handling in Python:\n",
    "\n",
    "- Be Specific with Exception Handling: \n",
    "\n",
    "- Use Multiple Except Blocks: \n",
    "\n",
    "- Use the Finally Block: \n",
    "\n",
    "- Avoid Catching Everything: \n",
    "\n",
    "- Handle Exceptions Locally: \n",
    "\n",
    "- Use Logging: \n",
    "\n",
    "- Keep Error Messages Clear and Informative: \n",
    "\n",
    "- Avoid Silent Failures: \n",
    "\n",
    "- Test Exception Handling: \n"
   ]
  }
 ],
 "metadata": {
  "kernelspec": {
   "display_name": "Python 3 (ipykernel)",
   "language": "python",
   "name": "python3"
  },
  "language_info": {
   "codemirror_mode": {
    "name": "ipython",
    "version": 3
   },
   "file_extension": ".py",
   "mimetype": "text/x-python",
   "name": "python",
   "nbconvert_exporter": "python",
   "pygments_lexer": "ipython3",
   "version": "3.10.5"
  }
 },
 "nbformat": 4,
 "nbformat_minor": 5
}
