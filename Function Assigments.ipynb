{
 "cells": [
  {
   "cell_type": "code",
   "execution_count": null,
   "id": "f99f555c",
   "metadata": {},
   "outputs": [],
   "source": [
    "'''\n",
    "Q1. Which keyword is used to create a function? Create a function to return a list of odd numbers in the\n",
    "range of 1 to 25.\n",
    "'''"
   ]
  },
  {
   "cell_type": "code",
   "execution_count": 11,
   "id": "b50f6abf",
   "metadata": {},
   "outputs": [
    {
     "name": "stdout",
     "output_type": "stream",
     "text": [
      "[1, 3, 5, 7, 9, 11, 13, 15, 17, 19, 21, 23, 25]\n"
     ]
    }
   ],
   "source": [
    "# Answer\n",
    "\n",
    "# def key word is used to create a function.\n",
    "\n",
    "def odd_num():\n",
    "    l = []\n",
    "    for i in range(1,26):\n",
    "        if i%2!=0:\n",
    "            l.append(i) \n",
    "    return l\n",
    "res = odd_num()\n",
    "print(res)"
   ]
  },
  {
   "cell_type": "code",
   "execution_count": 12,
   "id": "fd8e61be",
   "metadata": {},
   "outputs": [
    {
     "data": {
      "text/plain": [
       "'\\nQ2. Why *args and **kwargs is used in some functions? Create a function each for *args and **kwargs to\\ndemonstrate their use.\\n'"
      ]
     },
     "execution_count": 12,
     "metadata": {},
     "output_type": "execute_result"
    }
   ],
   "source": [
    "'''\n",
    "Q2. Why *args and **kwargs is used in some functions? Create a function each for *args and **kwargs to\n",
    "demonstrate their use.\n",
    "'''"
   ]
  },
  {
   "cell_type": "code",
   "execution_count": 14,
   "id": "48d2120c",
   "metadata": {},
   "outputs": [
    {
     "name": "stdout",
     "output_type": "stream",
     "text": [
      "14\n",
      "100\n"
     ]
    }
   ],
   "source": [
    "# Answer\n",
    "# We use *args and *kwargs as an argument in some function, when we are unsure about the number of arguments to pass\n",
    "# in function\n",
    "\n",
    "#*args\n",
    "def add_func(*num):\n",
    "    sum = 0\n",
    "    \n",
    "    for i in num:\n",
    "        sum = sum + i\n",
    "    return sum\n",
    "\n",
    "res = add_func(2,3,4,5)\n",
    "res1 = add_func(10,20,30,40)\n",
    "print(res)\n",
    "print(res1)"
   ]
  },
  {
   "cell_type": "code",
   "execution_count": 16,
   "id": "77530421",
   "metadata": {},
   "outputs": [
    {
     "name": "stdout",
     "output_type": "stream",
     "text": [
      "{'Name': 'Rimsha', 'Age': 28}\n",
      "Name Rimsha\n",
      "Age 28\n"
     ]
    }
   ],
   "source": [
    "#**Kwargs\n",
    "\n",
    "def details(**kwargs):\n",
    "     \n",
    "    for key,value in kwargs.items():\n",
    "        print(key,value)\n",
    "details(Name=\"Rimsha\",Age=28)"
   ]
  },
  {
   "cell_type": "code",
   "execution_count": null,
   "id": "a03036a6",
   "metadata": {},
   "outputs": [],
   "source": [
    "'''\n",
    "Q3.  What is an iterator in python? Name the method used to initialise the iterator object and the method\n",
    "used for iteration. Use these methods to print the first five elements of the given list [2, 4, 6, 8, 10, 12, 14, 16,\n",
    "18, 20].\n",
    "'''"
   ]
  },
  {
   "cell_type": "code",
   "execution_count": null,
   "id": "31e245ad",
   "metadata": {},
   "outputs": [],
   "source": [
    "# Answer\n",
    "'''\n",
    "An iterator is an object that can be iterated over.\n",
    "\n",
    "The __iter__() method is used to initialize the iterator object.\n",
    "The __next__() method is used for iteration.\n",
    "'''"
   ]
  },
  {
   "cell_type": "code",
   "execution_count": 20,
   "id": "1b19e670",
   "metadata": {},
   "outputs": [
    {
     "name": "stdout",
     "output_type": "stream",
     "text": [
      "2\n",
      "4\n",
      "6\n",
      "8\n",
      "10\n"
     ]
    }
   ],
   "source": [
    "list_ = [2, 4, 6, 8, 10, 12, 14, 16, 18, 20]\n",
    "\n",
    "iterator = iter(list_) # Initialize the iterator object\n",
    "\n",
    "for i in range(5): # Print the first five elements\n",
    "    print(next(iterator))\n"
   ]
  },
  {
   "cell_type": "code",
   "execution_count": null,
   "id": "6aad3d94",
   "metadata": {},
   "outputs": [],
   "source": [
    "'''\n",
    "Q4.  What is a generator function in python? Why yield keyword is used? Give an example of a generator\n",
    "function\n",
    "'''"
   ]
  },
  {
   "cell_type": "code",
   "execution_count": null,
   "id": "c50b8c8b",
   "metadata": {},
   "outputs": [],
   "source": [
    "# Answer\n",
    "'''\n",
    "A generator function in Python is a function that returns an iterator. It is used to create iterators that can be used to \n",
    "process large amount of data without storing the entire data in memory at once.\n",
    "\n",
    "'''"
   ]
  },
  {
   "cell_type": "code",
   "execution_count": 29,
   "id": "c1840b7e",
   "metadata": {},
   "outputs": [
    {
     "name": "stdout",
     "output_type": "stream",
     "text": [
      "0\n",
      "1\n",
      "2\n",
      "3\n",
      "4\n",
      "5\n",
      "6\n",
      "7\n",
      "8\n",
      "9\n"
     ]
    }
   ],
   "source": [
    "# Example\n",
    "def my_generator():\n",
    "    for i in range(10):\n",
    "        yield i\n",
    "for i in my_generator():\n",
    "    print(i)"
   ]
  },
  {
   "cell_type": "code",
   "execution_count": null,
   "id": "83afafc5",
   "metadata": {},
   "outputs": [],
   "source": [
    "'''\n",
    "Q5. Create a generator function for prime numbers less than 1000. Use the next() method to print the\n",
    "first 20 prime numbers.\n",
    "'''"
   ]
  },
  {
   "cell_type": "code",
   "execution_count": 54,
   "id": "25d078bf",
   "metadata": {},
   "outputs": [
    {
     "name": "stdout",
     "output_type": "stream",
     "text": [
      "2\n",
      "2\n",
      "2\n",
      "2\n",
      "2\n",
      "2\n",
      "2\n",
      "2\n",
      "2\n",
      "2\n",
      "2\n",
      "2\n",
      "2\n",
      "2\n",
      "2\n",
      "2\n",
      "2\n",
      "2\n",
      "2\n",
      "2\n"
     ]
    }
   ],
   "source": [
    "def prime_generator():\n",
    "    for i in range(2, 1001):\n",
    "        is_prime = True\n",
    "        for j in range(2, int(i**0.5) + 1):\n",
    "            if i % j == 0:\n",
    "                is_prime = False\n",
    "                break\n",
    "        if is_prime:\n",
    "            yield i\n",
    "for i in range(20):\n",
    "    print(next(prime_generator()))"
   ]
  },
  {
   "cell_type": "code",
   "execution_count": null,
   "id": "6c69dfb5",
   "metadata": {},
   "outputs": [],
   "source": []
  },
  {
   "cell_type": "code",
   "execution_count": null,
   "id": "ac543e7b",
   "metadata": {},
   "outputs": [],
   "source": []
  }
 ],
 "metadata": {
  "kernelspec": {
   "display_name": "Python 3 (ipykernel)",
   "language": "python",
   "name": "python3"
  },
  "language_info": {
   "codemirror_mode": {
    "name": "ipython",
    "version": 3
   },
   "file_extension": ".py",
   "mimetype": "text/x-python",
   "name": "python",
   "nbconvert_exporter": "python",
   "pygments_lexer": "ipython3",
   "version": "3.10.5"
  }
 },
 "nbformat": 4,
 "nbformat_minor": 5
}
