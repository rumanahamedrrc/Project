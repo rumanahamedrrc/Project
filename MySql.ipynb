{
 "cells": [
  {
   "cell_type": "markdown",
   "id": "5ac94518",
   "metadata": {},
   "source": [
    "Q1. What is a database? Differentiate between SQL and NoSQL databases."
   ]
  },
  {
   "cell_type": "markdown",
   "id": "6d17d8aa",
   "metadata": {},
   "source": [
    "A database is a structured collection of data that is organized and managed to facilitate efficient storage, retrieval, and manipulation of data. It provides a way to store and manage large amounts of information in a structured manner.\n",
    "\n",
    "Differentiating between SQL and NoSQL databases:\n",
    "\n",
    "SQL Databases:\n",
    "\n",
    "SQL (Structured Query Language) databases are based on the relational data model, where data is organized into tables with predefined schemas.\n",
    "SQL databases use a structured and predefined schema, meaning the structure of the data is determined before storing it.\n",
    "SQL databases ensure data integrity through the use of primary keys, foreign keys, and constraints.\n",
    "They typically provide ACID (Atomicity, Consistency, Isolation, Durability) properties, which guarantee data consistency and transactional integrity.\n",
    "SQL databases use a SQL language to perform queries and manipulations on the data.\n",
    "Examples of SQL databases include MySQL, PostgreSQL, Oracle, Microsoft SQL Server.\n",
    "\n",
    "NoSQL Databases:\n",
    "\n",
    "NoSQL (Not only SQL) databases are non-relational databases that provide flexible and schema-less data models.\n",
    "NoSQL databases are designed to handle large-scale, distributed data, and can handle unstructured, semi-structured, and rapidly changing data types.\n",
    "They do not enforce a predefined schema, allowing for dynamic and flexible data structures.\n",
    "NoSQL databases are horizontally scalable, meaning they can handle high traffic and large amounts of data by distributing it across multiple servers.\n",
    "They often provide eventual consistency, which allows for faster performance but sacrifices strict data consistency.\n",
    "NoSQL databases use various data models such as key-value, document, columnar, and graph-based.\n",
    "Examples of NoSQL databases include MongoDB, Cassandra, Redis, Couchbase."
   ]
  },
  {
   "cell_type": "markdown",
   "id": "bcf81802",
   "metadata": {},
   "source": [
    "Q2. What is DDL? Explain why CREATE, DROP, ALTER, and TRUNCATE are used with an example."
   ]
  },
  {
   "cell_type": "markdown",
   "id": "4e18191a",
   "metadata": {},
   "source": [
    "DDL stands for Data Definition Language. It is a subset of SQL (Structured Query Language) that is used to define and manage the structure of a database. DDL statements are used to create, modify, and delete database objects such as tables, indexes, views, and schemas."
   ]
  },
  {
   "cell_type": "markdown",
   "id": "3771b32c",
   "metadata": {},
   "source": [
    "The CREATE statement is used to create database objects such as tables, indexes, views, or schemas.\n",
    "CREATE TABLE Employees (\n",
    "    id INT PRIMARY KEY,\n",
    "    name VARCHAR(100),\n",
    "    age INT\n",
    ");\n"
   ]
  },
  {
   "cell_type": "markdown",
   "id": "0607d8a3",
   "metadata": {},
   "source": [
    "The DROP statement is used to delete or remove existing database objects from the database.\n",
    "DROP TABLE Employees;\n"
   ]
  },
  {
   "cell_type": "markdown",
   "id": "a4980fcb",
   "metadata": {},
   "source": [
    "The ALTER statement is used to modify the structure of an existing database object, such as adding or dropping columns, modifying constraints, or renaming objects.\n",
    "\n",
    "ALTER TABLE Employees\n",
    "ADD salary DECIMAL(10, 2);\n"
   ]
  },
  {
   "cell_type": "markdown",
   "id": "48809d98",
   "metadata": {},
   "source": [
    "The TRUNCATE statement is used to remove all rows from a table, but keep the table structure intact.\n",
    "TRUNCATE TABLE Employees;\n"
   ]
  },
  {
   "cell_type": "markdown",
   "id": "7670dd25",
   "metadata": {},
   "source": [
    "Q3. What is DML? Explain INSERT, UPDATE, and DELETE with an example."
   ]
  },
  {
   "cell_type": "markdown",
   "id": "9e430937",
   "metadata": {},
   "source": [
    "DML stands for Data Manipulation Language. It is a subset of SQL (Structured Query Language) used to retrieve, insert, update, and delete data in a database. DML statements are used to manipulate the data stored within the database tables."
   ]
  },
  {
   "cell_type": "markdown",
   "id": "b3baf009",
   "metadata": {},
   "source": [
    "The INSERT statement is used to add new records or rows into a table.\n",
    "\n",
    "INSERT INTO Employees (id, name, age)\n",
    "VALUES (1, 'John Doe', 30);\n"
   ]
  },
  {
   "cell_type": "markdown",
   "id": "a38c22f5",
   "metadata": {},
   "source": [
    "The UPDATE statement is used to modify or update existing records in a table.\n",
    "\n",
    "UPDATE Employees\n",
    "SET age = 35\n",
    "WHERE id = 1;\n"
   ]
  },
  {
   "cell_type": "markdown",
   "id": "07d3cc66",
   "metadata": {},
   "source": [
    "The DELETE statement is used to remove one or more rows from a table.\n",
    "\n",
    "DELETE FROM Employees\n",
    "WHERE id = 1;\n"
   ]
  },
  {
   "cell_type": "markdown",
   "id": "adb07fcc",
   "metadata": {},
   "source": [
    "Q4. What is DQL? Explain SELECT with an example."
   ]
  },
  {
   "cell_type": "markdown",
   "id": "ba0ededb",
   "metadata": {},
   "source": [
    "DQL stands for Data Query Language. It is a subset of SQL (Structured Query Language) that is used to retrieve or query data from a database. "
   ]
  },
  {
   "cell_type": "markdown",
   "id": "d62309dd",
   "metadata": {},
   "source": [
    "The SELECT statement is used to retrieve data from a database table. It allows you to specify the columns you want to retrieve, the table you want to query, and any conditions or criteria for filtering the data."
   ]
  },
  {
   "cell_type": "markdown",
   "id": "194080ed",
   "metadata": {},
   "source": [
    "SELECT name, age\n",
    "FROM Employees\n",
    "WHERE salary > 50000;\n"
   ]
  },
  {
   "cell_type": "markdown",
   "id": "bf704f3b",
   "metadata": {},
   "source": [
    "Q5. Explain Primary Key and Foreign Key."
   ]
  },
  {
   "cell_type": "markdown",
   "id": "5516ec76",
   "metadata": {},
   "source": [
    "A primary key is a column or a set of columns in a database table that uniquely identifies each row or record in that table.\n",
    "\n",
    "It serves as a unique identifier for each row, ensuring the integrity and uniqueness of the data.\n",
    "\n",
    "A primary key must have the following properties:\n",
    "\n",
    "- It must contain a unique value for each row in the table.\n",
    "- It must have a value for every row (cannot be NULL).\n",
    "- There can be only one primary key per table.\n",
    "- The primary key is often used as a reference point for establishing relationships with other tables through foreign keys."
   ]
  },
  {
   "cell_type": "markdown",
   "id": "312ebf39",
   "metadata": {},
   "source": [
    "A foreign key is a column or a set of columns in a database table that refers to the primary key of another table.\n",
    "\n",
    "It establishes a relationship between two tables, known as a parent-child relationship or a master-detail relationship."
   ]
  },
  {
   "cell_type": "markdown",
   "id": "b7448709",
   "metadata": {},
   "source": [
    "Q6. Write a python code to connect MySQL to python. Explain the cursor() and execute() method."
   ]
  },
  {
   "cell_type": "code",
   "execution_count": null,
   "id": "8896edb9",
   "metadata": {},
   "outputs": [],
   "source": [
    "import mysql.connector\n",
    "\n",
    "# Establish a connection to the MySQL database\n",
    "connection = mysql.connector.connect(\n",
    "    host=\"localhost\",\n",
    "    user=\"your_username\",\n",
    "    password=\"your_password\",\n",
    "    database=\"your_database\"\n",
    ")\n",
    "\n",
    "# Create a cursor object\n",
    "cursor = connection.cursor()\n",
    "\n",
    "# Execute SQL queries\n",
    "cursor.execute(\"SELECT * FROM employees\")\n",
    "result = cursor.fetchall()\n",
    "\n",
    "# Process the query result\n",
    "for row in result:\n",
    "    print(row)\n",
    "\n",
    "# Close the cursor and connection\n",
    "cursor.close()\n",
    "connection.close()\n"
   ]
  },
  {
   "cell_type": "markdown",
   "id": "e41e1693",
   "metadata": {},
   "source": [
    "The cursor() method returns a cursor object, which allows you to execute SQL statements and retrieve data from the database. "
   ]
  },
  {
   "cell_type": "markdown",
   "id": "c6383336",
   "metadata": {},
   "source": [
    "The execute() method of the cursor is used to execute SQL queries. You can pass the SQL statement as a parameter to the execute() method, and it will be executed by the database. It can be used to perform various operations like SELECT, INSERT, UPDATE, DELETE, etc."
   ]
  },
  {
   "cell_type": "markdown",
   "id": "8ee15e41",
   "metadata": {},
   "source": [
    "Q7. Give the order of execution of SQL clauses in an SQL query."
   ]
  },
  {
   "cell_type": "code",
   "execution_count": null,
   "id": "bbfcc5bd",
   "metadata": {},
   "outputs": [],
   "source": [
    "- FROM\n",
    "- WHERE\n",
    "- GROUPBY\n",
    "- HAVING\n",
    "- SELECT\n",
    "- ORDERBY\n",
    "- LIMIT/OFFSET"
   ]
  }
 ],
 "metadata": {
  "kernelspec": {
   "display_name": "Python 3 (ipykernel)",
   "language": "python",
   "name": "python3"
  },
  "language_info": {
   "codemirror_mode": {
    "name": "ipython",
    "version": 3
   },
   "file_extension": ".py",
   "mimetype": "text/x-python",
   "name": "python",
   "nbconvert_exporter": "python",
   "pygments_lexer": "ipython3",
   "version": "3.10.5"
  }
 },
 "nbformat": 4,
 "nbformat_minor": 5
}
