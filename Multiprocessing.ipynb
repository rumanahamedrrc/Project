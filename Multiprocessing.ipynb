{
 "cells": [
  {
   "cell_type": "markdown",
   "id": "a3848d82",
   "metadata": {},
   "source": [
    "Q1. What is multiprocessing in python? Why is it useful?"
   ]
  },
  {
   "cell_type": "markdown",
   "id": "40bfea9c",
   "metadata": {},
   "source": [
    "Multiprocessing in Python refers to the capability of executing multiple processes simultaneously. It allows programs to utilize multiple CPUs or cores to perform tasks in parallel. Python provides a multiprocessing module that enables the creation and management of processes.\n",
    "\n",
    "Here are some reasons why multiprocessing in Python is useful:\n",
    "\n",
    "1. Improved Performance\n",
    "2. CPU-bound Task\n",
    "3. Independent Processes\n",
    "4. Resource Utilization\n",
    "5. Fault Isolation\n",
    "6. Interprocess Communication"
   ]
  },
  {
   "cell_type": "markdown",
   "id": "ee6de9bf",
   "metadata": {},
   "source": [
    "Q2. What are the differences between multiprocessing and multithreading?"
   ]
  },
  {
   "cell_type": "markdown",
   "id": "24f2625f",
   "metadata": {},
   "source": [
    "- Multiprocessing involves the execution of multiple processes simultaneously, where each process runs in its own memory space and has its own resources. Processes do not share memory by default. Multithreading, on the other hand, involves the execution of multiple threads within a single process. Threads share the same memory space and resources of the process they belong to.\n",
    "\n",
    "- Multiprocessing can effectively utilize multiple CPUs or cores, allowing for true parallel execution. Each process runs on a separate core and can execute tasks independently. Multithreading, however, is limited by the Global Interpreter Lock (GIL) in CPython, the reference implementation of Python. The GIL allows only one thread to execute Python bytecode at a time, preventing true parallelism. Thus, multithreading in Python is more suitable for I/O-bound operations rather than CPU-bound operations.\n",
    "\n",
    "- Multiprocessing involves separate memory spaces for each process, which results in higher memory overhead compared to multithreading. Each process has its own memory allocation and management. Multithreading shares the same memory space within a process, resulting in lower memory overhead. Threads can directly access and modify shared data.\n",
    "\n",
    "- In multiprocessing, if one process crashes or encounters an error, it does not affect other processes. Processes are isolated from each other. In multithreading, if one thread crashes or raises an unhandled exception, it can potentially crash the entire process since all threads share the same memory space.\n",
    "\n",
    "- Debugging multiprocessing can be more complex than debugging multithreading due to the nature of separate processes. Interprocess communication and synchronization can introduce additional complexities, making debugging more challenging. Debugging multithreading can be relatively easier since all threads run within a single process, and data sharing is more straightforward. However, debugging race conditions and synchronization issues can still be challenging."
   ]
  },
  {
   "cell_type": "markdown",
   "id": "7d9d4b1d",
   "metadata": {},
   "source": [
    "Q3. Write a python code to create a process using the multiprocessing module."
   ]
  },
  {
   "cell_type": "code",
   "execution_count": null,
   "id": "e641bba0",
   "metadata": {},
   "outputs": [],
   "source": [
    "import multiprocessing\n",
    "\n",
    "def worker():\n",
    "    \"\"\"Function to be executed in the child process\"\"\"\n",
    "    print(\"Worker process\")\n",
    "\n",
    "if __name__ == \"__main__\":\n",
    "    # Create a Process object\n",
    "    process = multiprocessing.Process(target=worker)\n",
    "\n",
    "    # Start the process\n",
    "    process.start()\n",
    "\n",
    "    # Wait for the process to finish\n",
    "    process.join()\n",
    "\n",
    "    print(\"Main process exiting\")\n"
   ]
  },
  {
   "cell_type": "markdown",
   "id": "42915922",
   "metadata": {},
   "source": [
    "Q4. What is a multiprocessing pool in python? Why is it used?"
   ]
  },
  {
   "cell_type": "markdown",
   "id": "5dc6c3f2",
   "metadata": {},
   "source": [
    "A multiprocessing pool refers to a collection of worker processes that can be used to parallelize the execution of a function across multiple inputs. The multiprocessing pool is part of the multiprocessing module and provides a convenient way to distribute tasks among a fixed number of worker processes.\n",
    "\n",
    "Worker Processes: A multiprocessing pool consists of a specified number of worker processes. These processes are created when the pool is instantiated and remain active until the pool is closed or terminated.\n",
    "\n",
    "Task Distribution: The pool automatically distributes tasks among the available worker processes. You can submit tasks to the pool using methods like apply(), apply_async(), map(), or map_async(). The pool ensures that the tasks are executed concurrently across the worker processes.\n",
    "\n",
    "Load Balancing: The multiprocessing pool internally manages the load balancing of tasks among the worker processes. It evenly distributes the workload, ensuring that each worker gets a fair share of tasks. This helps in maximizing the utilization of available resources.\n",
    "\n",
    "Blocking and Non-blocking Methods: The pool provides both blocking and non-blocking methods for task submission. Blocking methods, such as apply() and map(), wait for the tasks to complete and return the results. Non-blocking methods, such as apply_async() and map_async(), return immediately and allow you to obtain results asynchronously using get() or callbacks.\n",
    "\n",
    "Result Retrieval: The multiprocessing pool allows you to retrieve the results of executed tasks. For blocking methods, the results are returned directly. For non-blocking methods, you can use get() or provide callback functions to retrieve the results as they become available.\n"
   ]
  },
  {
   "cell_type": "code",
   "execution_count": null,
   "id": "e695f758",
   "metadata": {},
   "outputs": [],
   "source": [
    "Q5. How can we create a pool of worker processes in python using the multiprocessing module?"
   ]
  },
  {
   "cell_type": "code",
   "execution_count": null,
   "id": "45733222",
   "metadata": {},
   "outputs": [],
   "source": [
    "import multiprocessing\n",
    "\n",
    "def worker(task):\n",
    "    \"\"\"Function to be executed by worker processes\"\"\"\n",
    "    result = task * 2\n",
    "    return result\n",
    "\n",
    "if __name__ == \"__main__\":\n",
    "    # Create a Pool object with 4 worker processes\n",
    "    pool = multiprocessing.Pool(processes=4)\n",
    "\n",
    "    # Define the tasks\n",
    "    tasks = [1, 2, 3, 4, 5]\n",
    "\n",
    "    # Apply the worker function to the tasks using the Pool\n",
    "    results = pool.map(worker, tasks)\n",
    "\n",
    "    # Close the Pool and wait for the worker processes to finish\n",
    "    pool.close()\n",
    "    pool.join()\n",
    "\n",
    "    # Print the results\n",
    "    print(\"Results:\", results)\n"
   ]
  },
  {
   "cell_type": "code",
   "execution_count": null,
   "id": "d3730423",
   "metadata": {},
   "outputs": [],
   "source": [
    "Q6. Write a python program to create 4 processes, each process should print a different number using the\n",
    "multiprocessing module in python."
   ]
  },
  {
   "cell_type": "code",
   "execution_count": null,
   "id": "5d07a6d3",
   "metadata": {},
   "outputs": [],
   "source": [
    "import multiprocessing\n",
    "\n",
    "def print_number(number):\n",
    "    \"\"\"Function to be executed in each process\"\"\"\n",
    "    print(\"Process ID:\", multiprocessing.current_process().pid)\n",
    "    print(\"Number:\", number)\n",
    "\n",
    "if __name__ == \"__main__\":\n",
    "    # Create a list of numbers\n",
    "    numbers = [1, 2, 3, 4]\n",
    "\n",
    "    # Create a Process object for each number and start the processes\n",
    "    processes = []\n",
    "    for number in numbers:\n",
    "        process = multiprocessing.Process(target=print_number, args=(number,))\n",
    "        processes.append(process)\n",
    "        process.start()\n",
    "\n",
    "    # Wait for all processes to finish\n",
    "    for process in processes:\n",
    "        process.join()\n",
    "\n",
    "    print(\"Main process exiting\")\n"
   ]
  },
  {
   "cell_type": "code",
   "execution_count": null,
   "id": "9e5e4de0",
   "metadata": {},
   "outputs": [],
   "source": []
  },
  {
   "cell_type": "code",
   "execution_count": null,
   "id": "43555f61",
   "metadata": {},
   "outputs": [],
   "source": []
  },
  {
   "cell_type": "code",
   "execution_count": null,
   "id": "ffb269e2",
   "metadata": {},
   "outputs": [],
   "source": []
  },
  {
   "cell_type": "code",
   "execution_count": null,
   "id": "2578c51b",
   "metadata": {},
   "outputs": [],
   "source": []
  },
  {
   "cell_type": "code",
   "execution_count": null,
   "id": "954b188c",
   "metadata": {},
   "outputs": [],
   "source": []
  },
  {
   "cell_type": "code",
   "execution_count": null,
   "id": "3f2ed897",
   "metadata": {},
   "outputs": [],
   "source": []
  }
 ],
 "metadata": {
  "kernelspec": {
   "display_name": "Python 3 (ipykernel)",
   "language": "python",
   "name": "python3"
  },
  "language_info": {
   "codemirror_mode": {
    "name": "ipython",
    "version": 3
   },
   "file_extension": ".py",
   "mimetype": "text/x-python",
   "name": "python",
   "nbconvert_exporter": "python",
   "pygments_lexer": "ipython3",
   "version": "3.10.5"
  }
 },
 "nbformat": 4,
 "nbformat_minor": 5
}
