{
 "cells": [
  {
   "cell_type": "code",
   "execution_count": null,
   "id": "d79c4e6d",
   "metadata": {},
   "outputs": [],
   "source": [
    "'''\n",
    "Q1. How do you comment code in Python? What are the different types of comments?\n",
    "'''"
   ]
  },
  {
   "cell_type": "code",
   "execution_count": null,
   "id": "9c4ae41b",
   "metadata": {},
   "outputs": [],
   "source": [
    "# Answer\n",
    "'''\n",
    "We comment in python by using hash (#).\n",
    "There are two ways to comment:\n",
    "1. Single line comment\n",
    "2. Multiline comment\n",
    "'''"
   ]
  },
  {
   "cell_type": "code",
   "execution_count": null,
   "id": "42943245",
   "metadata": {},
   "outputs": [],
   "source": [
    "'''\n",
    "Q2. What are variables in Python? How do you declare and assign values to variables?\n",
    "'''"
   ]
  },
  {
   "cell_type": "code",
   "execution_count": null,
   "id": "c7d52fa0",
   "metadata": {},
   "outputs": [],
   "source": [
    "# Answer \n",
    "'''\n",
    "variables are name in which we assign a value or in other word we can say, if we want to store any value then we store that value\n",
    "in a variables.\n",
    "\n",
    "eg .\n",
    "a = 10 \n",
    "here a is a variable\n",
    "Note:- Variable name can't be interger\n",
    "'''"
   ]
  },
  {
   "cell_type": "code",
   "execution_count": null,
   "id": "f0ec734e",
   "metadata": {},
   "outputs": [],
   "source": [
    "'''\n",
    "Q3. How do you convert one data type to another in Python?\n",
    "'''"
   ]
  },
  {
   "cell_type": "code",
   "execution_count": null,
   "id": "ed71efb7",
   "metadata": {},
   "outputs": [],
   "source": [
    "# Answer\n",
    "'''\n",
    "We can convert one data type to another with the help of type casting.\n",
    "eg. a = 10\n",
    "if we want to convert it to string then we write str(a)\n",
    "'''"
   ]
  },
  {
   "cell_type": "code",
   "execution_count": null,
   "id": "cad5212a",
   "metadata": {},
   "outputs": [],
   "source": [
    "'''\n",
    "Q4. How do you write and execute a Python script from the command line?\n",
    "'''"
   ]
  },
  {
   "cell_type": "code",
   "execution_count": null,
   "id": "75e33d80",
   "metadata": {},
   "outputs": [],
   "source": [
    "# Answer\n",
    "'''\n",
    "Step 1 - Open command prompt\n",
    "step 2 - pyton 'location of python file/file_name.py'\n",
    "'''"
   ]
  },
  {
   "cell_type": "code",
   "execution_count": null,
   "id": "f38dad44",
   "metadata": {},
   "outputs": [],
   "source": [
    "'''\n",
    "Q5. Given a list my_list = [1, 2, 3, 4, 5], write the code to slice the list and obtain the sub-list [2, 3].\n",
    "'''"
   ]
  },
  {
   "cell_type": "code",
   "execution_count": 1,
   "id": "9b16bba6",
   "metadata": {},
   "outputs": [
    {
     "name": "stdout",
     "output_type": "stream",
     "text": [
      "[2, 3]\n"
     ]
    }
   ],
   "source": [
    "my_list = [1, 2, 3, 4, 5]\n",
    "print(my_list[1:3])"
   ]
  },
  {
   "cell_type": "code",
   "execution_count": null,
   "id": "5f8eff74",
   "metadata": {},
   "outputs": [],
   "source": [
    "'''\n",
    "Q6. What is a complex number in mathematics, and how is it represented in Python?\n",
    "'''"
   ]
  },
  {
   "cell_type": "code",
   "execution_count": 4,
   "id": "4d75faf4",
   "metadata": {},
   "outputs": [
    {
     "name": "stdout",
     "output_type": "stream",
     "text": [
      "<class 'complex'>\n",
      "<class 'complex'>\n"
     ]
    }
   ],
   "source": [
    "# Answer\n",
    "'''\n",
    "Any number is form of a+bj is known as complex number, where a is real number and bj is imaginary no.\n",
    "'''\n",
    "z = complex(3, 2)  #complex number with real part 3 and imaginary part 2\n",
    "print(type(z))\n",
    "c = 5 + 2j\n",
    "print(type(c))"
   ]
  },
  {
   "cell_type": "code",
   "execution_count": null,
   "id": "6cea998e",
   "metadata": {},
   "outputs": [],
   "source": [
    "'''\n",
    "Q7. What is the correct way to declare a variable named age and assign the value 25 to it?\n",
    "'''"
   ]
  },
  {
   "cell_type": "code",
   "execution_count": 5,
   "id": "c1609665",
   "metadata": {},
   "outputs": [
    {
     "name": "stdout",
     "output_type": "stream",
     "text": [
      "25\n"
     ]
    }
   ],
   "source": [
    "# Answer\n",
    "age = 25\n",
    "print(age)"
   ]
  },
  {
   "cell_type": "code",
   "execution_count": null,
   "id": "6dddd7e9",
   "metadata": {},
   "outputs": [],
   "source": [
    "'''\n",
    "Q8. Declare a variable named price and assign the value 9.99 to it. What data type does this variable \n",
    "belong to?\n",
    "'''"
   ]
  },
  {
   "cell_type": "code",
   "execution_count": 6,
   "id": "5f17f4b1",
   "metadata": {},
   "outputs": [
    {
     "name": "stdout",
     "output_type": "stream",
     "text": [
      "<class 'float'>\n"
     ]
    }
   ],
   "source": [
    "# Answer\n",
    "price = 9.99\n",
    "# it belongs to float data type\n",
    "print(type(price))"
   ]
  },
  {
   "cell_type": "code",
   "execution_count": null,
   "id": "b12a3cf4",
   "metadata": {},
   "outputs": [],
   "source": [
    "'''\n",
    "Q9. Create a variable named name and assign your full name to it as a string. How would you print the \n",
    "value of this variable?\n",
    "'''"
   ]
  },
  {
   "cell_type": "code",
   "execution_count": 7,
   "id": "ff0c2c4a",
   "metadata": {},
   "outputs": [
    {
     "name": "stdout",
     "output_type": "stream",
     "text": [
      "Ruman Ahamed\n"
     ]
    }
   ],
   "source": [
    "# Answer\n",
    "name = \"Ruman Ahamed\"\n",
    "print(name)"
   ]
  },
  {
   "cell_type": "code",
   "execution_count": null,
   "id": "bf2d8ec9",
   "metadata": {},
   "outputs": [],
   "source": [
    "'''\n",
    "Q10. Given the string \"Hello, World!\", extract the substring \"World\".\n",
    "'''"
   ]
  },
  {
   "cell_type": "code",
   "execution_count": 8,
   "id": "f8196bfe",
   "metadata": {},
   "outputs": [
    {
     "name": "stdout",
     "output_type": "stream",
     "text": [
      "World\n"
     ]
    }
   ],
   "source": [
    "# Answer\n",
    "word = \"Hello, World!\"\n",
    "print(word[7:12])"
   ]
  },
  {
   "cell_type": "code",
   "execution_count": null,
   "id": "c92c92c2",
   "metadata": {},
   "outputs": [],
   "source": [
    "'''\n",
    "Q11. Create a variable named \"is_student\" and assign it a boolean value indicating whether you are \n",
    "currently a student or not.\n",
    "'''"
   ]
  },
  {
   "cell_type": "code",
   "execution_count": 10,
   "id": "f086f255",
   "metadata": {},
   "outputs": [
    {
     "name": "stdout",
     "output_type": "stream",
     "text": [
      "False\n"
     ]
    }
   ],
   "source": [
    "is_student = False\n",
    "print(is_student)"
   ]
  },
  {
   "cell_type": "code",
   "execution_count": null,
   "id": "8e9c81dd",
   "metadata": {},
   "outputs": [],
   "source": []
  },
  {
   "cell_type": "code",
   "execution_count": null,
   "id": "bad2f063",
   "metadata": {},
   "outputs": [],
   "source": []
  }
 ],
 "metadata": {
  "kernelspec": {
   "display_name": "Python 3 (ipykernel)",
   "language": "python",
   "name": "python3"
  },
  "language_info": {
   "codemirror_mode": {
    "name": "ipython",
    "version": 3
   },
   "file_extension": ".py",
   "mimetype": "text/x-python",
   "name": "python",
   "nbconvert_exporter": "python",
   "pygments_lexer": "ipython3",
   "version": "3.10.5"
  }
 },
 "nbformat": 4,
 "nbformat_minor": 5
}
