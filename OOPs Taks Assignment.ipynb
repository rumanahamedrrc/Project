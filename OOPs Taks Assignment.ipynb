{
 "cells": [
  {
   "cell_type": "markdown",
   "id": "3af42e1e",
   "metadata": {},
   "source": [
    "Q1- Create a vehicle class with an init method having instance variables as name_of_vehicle, max_speed\n",
    "and average_of_vehicle."
   ]
  },
  {
   "cell_type": "code",
   "execution_count": 2,
   "id": "110e7801",
   "metadata": {},
   "outputs": [],
   "source": [
    "class vehicle:\n",
    "    \n",
    "    def __init__(self,name_of_vehicle, max_speed ,average_of_vehicle):\n",
    "        self.name_of_vehicle = name_of_vehicle\n",
    "        self.max_speed = max_speed\n",
    "        self.average_of_vehicle = average_of_vehicle"
   ]
  },
  {
   "cell_type": "markdown",
   "id": "c3988191",
   "metadata": {},
   "source": [
    "Q2 - Create a child class car from the vehicle class created in Que 1, which will inherit the vehicle class.\n",
    "Create a method named seating_capacity which takes capacity as an argument and returns the name of\n",
    "the vehicle and its seating capacity."
   ]
  },
  {
   "cell_type": "code",
   "execution_count": 3,
   "id": "2bf274dd",
   "metadata": {},
   "outputs": [],
   "source": [
    "class car(vehicle):\n",
    "    \n",
    "    def seating_capacity(self,capacity):\n",
    "        return self.name_of_vehicle,self.capacity"
   ]
  },
  {
   "cell_type": "markdown",
   "id": "5fdfd33f",
   "metadata": {},
   "source": [
    "Q3- What is multiple inheritance? Write a python code to demonstrate multiple inheritance."
   ]
  },
  {
   "cell_type": "markdown",
   "id": "d57f2169",
   "metadata": {},
   "source": [
    "Answer - Multiple inheritance in Python refers to a feature where a class can inherit properties and behaviors from multiple superclasses."
   ]
  },
  {
   "cell_type": "code",
   "execution_count": null,
   "id": "cb914741",
   "metadata": {},
   "outputs": [],
   "source": [
    "class Animal:\n",
    "    def __init__(self, name):\n",
    "        self.name = name\n",
    "\n",
    "    def eat(self):\n",
    "        print(f\"{self.name} is eating.\")\n",
    "\n",
    "    def sleep(self):\n",
    "        print(f\"{self.name} is sleeping.\")\n",
    "\n",
    "\n",
    "class Flyable:\n",
    "    def fly(self):\n",
    "        print(f\"{self.name} is flying.\")\n",
    "\n",
    "\n",
    "class Bird(Animal, Flyable):\n",
    "    def chirp(self):\n",
    "        print(f\"{self.name} is chirping.\")\n",
    "\n",
    "\n",
    "class Airplane(Flyable):\n",
    "    def take_off(self):\n",
    "        print(\"Airplane is taking off.\")\n",
    "\n",
    "    def land(self):\n",
    "        print(\"Airplane is landing.\")\n",
    "\n",
    "\n",
    "# Creating instances of the subclasses\n",
    "bird = Bird(\"Sparrow\")\n",
    "airplane = Airplane()\n",
    "\n",
    "# Accessing methods from the inherited superclasses\n",
    "bird.eat()    # Output: Sparrow is eating.\n",
    "bird.fly()    # Output: Sparrow is flying.\n",
    "bird.chirp()  # Output: Sparrow is chirping.\n",
    "\n",
    "airplane.fly()      # Output: Airplane is flying.\n",
    "airplane.take_off() # Output: Airplane is taking off.\n",
    "airplane.land()     # Output: Airplane is landing.\n"
   ]
  },
  {
   "cell_type": "markdown",
   "id": "5af05500",
   "metadata": {},
   "source": [
    "Q4- What are getter and setter in python? Create a class and create a getter and a setter method in this\n",
    "class."
   ]
  },
  {
   "cell_type": "markdown",
   "id": "7a0c075e",
   "metadata": {},
   "source": [
    "Answer -  getter and setter methods are used to control access to class attributes "
   ]
  },
  {
   "cell_type": "code",
   "execution_count": null,
   "id": "dfbbf072",
   "metadata": {},
   "outputs": [],
   "source": [
    "class Person:\n",
    "    def __init__(self, name, age):\n",
    "        self._name = name  # private attribute\n",
    "        self._age = age    # private attribute\n",
    "\n",
    "    # Getter method for name attribute\n",
    "    def get_name(self):\n",
    "        return self._name\n",
    "\n",
    "    # Setter method for name attribute\n",
    "    def set_name(self, name):\n",
    "        self._name = name\n",
    "\n",
    "    # Getter method for age attribute\n",
    "    def get_age(self):\n",
    "        return self._age\n",
    "\n",
    "    # Setter method for age attribute\n",
    "    def set_age(self, age):\n",
    "        if age >= 0:\n",
    "            self._age = age\n",
    "        else:\n",
    "            print(\"Invalid age value. Age must be non-negative.\")\n",
    "\n",
    "# Creating an instance of the class\n",
    "person = Person(\"John\", 25)\n",
    "\n",
    "# Getting values using the getter methods\n",
    "print(person.get_name())  # Output: John\n",
    "print(person.get_age())   # Output: 25\n",
    "\n",
    "# Setting values using the setter methods\n",
    "person.set_name(\"Alice\")\n",
    "person.set_age(30)\n",
    "\n",
    "# Getting updated values\n",
    "print(person.get_name())  # Output: Alice\n",
    "print(person.get_age())   # Output: 30\n"
   ]
  },
  {
   "cell_type": "markdown",
   "id": "0c9f1c45",
   "metadata": {},
   "source": [
    "Q5- What is method overriding in python? Write a python code to demonstrate method overriding."
   ]
  },
  {
   "cell_type": "markdown",
   "id": "9f1a895c",
   "metadata": {},
   "source": [
    "Answer - Method overriding in Python refers to a situation where a subclass provides its implementation of a method that is already defined in its superclass. The overridden method in the subclass has the same name, return type, and parameters as the method in the superclass "
   ]
  },
  {
   "cell_type": "code",
   "execution_count": 4,
   "id": "e4b375d9",
   "metadata": {},
   "outputs": [
    {
     "name": "stdout",
     "output_type": "stream",
     "text": [
      "The animal makes a sound.\n",
      "The dog barks.\n",
      "The cat meows.\n"
     ]
    }
   ],
   "source": [
    "class Animal:\n",
    "    def make_sound(self):\n",
    "        print(\"The animal makes a sound.\")\n",
    "\n",
    "\n",
    "class Dog(Animal):\n",
    "    def make_sound(self):\n",
    "        print(\"The dog barks.\")\n",
    "\n",
    "\n",
    "class Cat(Animal):\n",
    "    def make_sound(self):\n",
    "        print(\"The cat meows.\")\n",
    "\n",
    "\n",
    "# Creating instances of the subclasses\n",
    "animal = Animal()\n",
    "dog = Dog()\n",
    "cat = Cat()\n",
    "\n",
    "# Calling the overridden method\n",
    "animal.make_sound()  # Output: The animal makes a sound.\n",
    "dog.make_sound()     # Output: The dog barks.\n",
    "cat.make_sound()     # Output: The cat meows.\n"
   ]
  },
  {
   "cell_type": "code",
   "execution_count": null,
   "id": "d85c03d0",
   "metadata": {},
   "outputs": [],
   "source": []
  },
  {
   "cell_type": "code",
   "execution_count": null,
   "id": "820f7107",
   "metadata": {},
   "outputs": [],
   "source": []
  }
 ],
 "metadata": {
  "kernelspec": {
   "display_name": "Python 3 (ipykernel)",
   "language": "python",
   "name": "python3"
  },
  "language_info": {
   "codemirror_mode": {
    "name": "ipython",
    "version": 3
   },
   "file_extension": ".py",
   "mimetype": "text/x-python",
   "name": "python",
   "nbconvert_exporter": "python",
   "pygments_lexer": "ipython3",
   "version": "3.10.5"
  }
 },
 "nbformat": 4,
 "nbformat_minor": 5
}
