{
 "cells": [
  {
   "cell_type": "code",
   "execution_count": null,
   "id": "a0dbafab",
   "metadata": {},
   "outputs": [],
   "source": [
    "'''\n",
    "Q1. Create one variable containing following type of data:\n",
    "(i) string\n",
    "(ii) list\n",
    "(iii) float\n",
    "(iv) tuple\n",
    "'''\n"
   ]
  },
  {
   "cell_type": "code",
   "execution_count": null,
   "id": "64cd84df",
   "metadata": {},
   "outputs": [],
   "source": [
    "# Answer 1\n",
    "a = 'Hello'\n",
    "b = [10,20,30,\"Hello\"]\n",
    "c = 10.25\n",
    "d = (10,20,30,40,'hello')"
   ]
  },
  {
   "cell_type": "code",
   "execution_count": null,
   "id": "670a692c",
   "metadata": {},
   "outputs": [],
   "source": [
    "'''\n",
    "Q2. Given are some following variables containing data:\n",
    "(i) var1 = ' '\n",
    "(ii) var2 = '[ DS , ML , Python]'\n",
    "(iii) var3 = [ ‘DS’ , ’ML’ , ‘Python’ ]\n",
    "(iv) var4 = 1.\n",
    "'''"
   ]
  },
  {
   "cell_type": "code",
   "execution_count": null,
   "id": "eb764691",
   "metadata": {},
   "outputs": [],
   "source": [
    "# Answer 2\n",
    "'''\n",
    "var1 - string\n",
    "var2 - string\n",
    "var3 - list\n",
    "var4 - float\n",
    "'''"
   ]
  },
  {
   "cell_type": "code",
   "execution_count": null,
   "id": "2571e315",
   "metadata": {},
   "outputs": [],
   "source": [
    "'''\n",
    "Q3. Explain the use of the following operators using an example:\n",
    "(i) /\n",
    "(ii) %\n",
    "(iii) //\n",
    "(iv) **\n",
    "'''"
   ]
  },
  {
   "cell_type": "code",
   "execution_count": null,
   "id": "c498f051",
   "metadata": {},
   "outputs": [],
   "source": [
    "# Answer 3\n",
    "'''\n",
    "i) / is used for division, it will gives the value at what time the no. is divisible\n",
    "eg. 10/2 the answer will be 5\n",
    "ii) % is used to get the reminder, we basically used to check the no. divisibilty.\n",
    "eg. 10%3 will give reminder 1\n",
    "iii) // is known as floor division, it will give the answer in whole no.\n",
    "eg. - 5//2 will give answer 2 instead of 2.5\n",
    "iv) ** is used to square the number.\n",
    "eg. 2**2 will give answer 4\n",
    "\n",
    "'''"
   ]
  },
  {
   "cell_type": "code",
   "execution_count": null,
   "id": "84069854",
   "metadata": {},
   "outputs": [],
   "source": [
    "'''\n",
    "Q4. Create a list of length 10 of your choice containing multiple types of data. Using for loop print the\n",
    "element and its data type.\n",
    "'''"
   ]
  },
  {
   "cell_type": "code",
   "execution_count": 6,
   "id": "1386319d",
   "metadata": {},
   "outputs": [
    {
     "name": "stdout",
     "output_type": "stream",
     "text": [
      "10 <class 'int'>\n",
      "12.2 <class 'float'>\n",
      "(10, 12) <class 'tuple'>\n",
      "PWSKILLS <class 'str'>\n",
      "[10, 12] <class 'list'>\n",
      "{'name': 'pw', 'rollno': 24} <class 'dict'>\n",
      "{10, 20, 30} <class 'set'>\n",
      "target <class 'str'>\n",
      "22.33 <class 'float'>\n",
      "World <class 'str'>\n"
     ]
    }
   ],
   "source": [
    "a = [10,12.2,(10,12),'PWSKILLS',[10,12],{'name':'pw','rollno':24},{10,20,30},'target',22.33,\"World\"]\n",
    "for i in a:\n",
    "    print(i,type(i))"
   ]
  },
  {
   "cell_type": "code",
   "execution_count": null,
   "id": "ba0db722",
   "metadata": {},
   "outputs": [],
   "source": [
    "'''\n",
    "Q5. Using a while loop, verify if the number A is purely divisible by number B and if so then how many\n",
    "times it can be divisible.\n",
    "'''"
   ]
  },
  {
   "cell_type": "code",
   "execution_count": 11,
   "id": "27e846c9",
   "metadata": {},
   "outputs": [
    {
     "name": "stdout",
     "output_type": "stream",
     "text": [
      "A is divisible by B, and it can be divided 2 times.\n"
     ]
    }
   ],
   "source": [
    "A = 36\n",
    "B = 6\n",
    "count = 0\n",
    "\n",
    "while A % B == 0:\n",
    "    A = A / B\n",
    "    count += 1\n",
    "\n",
    "if count > 0:\n",
    "    print(f\"A is divisible by B, and it can be divided {count} times.\")\n",
    "else:\n",
    "    print(\"A is not divisible by B.\")\n",
    "\n",
    "    "
   ]
  },
  {
   "cell_type": "code",
   "execution_count": 19,
   "id": "7a5e6b5b",
   "metadata": {},
   "outputs": [
    {
     "name": "stdout",
     "output_type": "stream",
     "text": [
      "6\n"
     ]
    },
    {
     "ename": "KeyboardInterrupt",
     "evalue": "",
     "output_type": "error",
     "traceback": [
      "\u001b[1;31m---------------------------------------------------------------------------\u001b[0m",
      "\u001b[1;31mKeyboardInterrupt\u001b[0m                         Traceback (most recent call last)",
      "Cell \u001b[1;32mIn[19], line 5\u001b[0m\n\u001b[0;32m      2\u001b[0m B \u001b[38;5;241m=\u001b[39m \u001b[38;5;241m6\u001b[39m\n\u001b[0;32m      3\u001b[0m count \u001b[38;5;241m=\u001b[39m \u001b[38;5;241m0\u001b[39m\n\u001b[1;32m----> 5\u001b[0m \u001b[38;5;28;01mwhile\u001b[39;00m \u001b[43mA\u001b[49m\u001b[38;5;241;43m!=\u001b[39;49m\u001b[38;5;241;43m0\u001b[39;49m:\n\u001b[0;32m      6\u001b[0m     \u001b[38;5;28;01mif\u001b[39;00m A\u001b[38;5;241m%\u001b[39mB\u001b[38;5;241m==\u001b[39m\u001b[38;5;241m0\u001b[39m:\n\u001b[0;32m      7\u001b[0m         count \u001b[38;5;241m=\u001b[39m A\u001b[38;5;241m/\u001b[39m\u001b[38;5;241m/\u001b[39mB\n",
      "\u001b[1;31mKeyboardInterrupt\u001b[0m: "
     ]
    }
   ],
   "source": [
    "A = 36\n",
    "B = 6\n",
    "count = 0\n",
    "\n",
    "while A!=0:\n",
    "    if A%B==0:\n",
    "        count = A//B\n",
    "        A=A//10\n",
    "        print(count)\n",
    "    "
   ]
  },
  {
   "cell_type": "code",
   "execution_count": null,
   "id": "2148bc60",
   "metadata": {},
   "outputs": [],
   "source": [
    "'''\n",
    "Q6. Create a list containing 25 int type data. Using for loop and if-else condition print if the element is\n",
    "divisible by 3 or not.\n",
    "'''"
   ]
  },
  {
   "cell_type": "code",
   "execution_count": 21,
   "id": "6426c116",
   "metadata": {},
   "outputs": [
    {
     "name": "stdout",
     "output_type": "stream",
     "text": [
      "1 element is not divisible by 3\n",
      "2 element is not divisible by 3\n",
      "3 element is divisible by 3\n",
      "4 element is not divisible by 3\n",
      "5 element is not divisible by 3\n",
      "6 element is divisible by 3\n",
      "7 element is not divisible by 3\n",
      "8 element is not divisible by 3\n",
      "9 element is divisible by 3\n",
      "10 element is not divisible by 3\n",
      "11 element is not divisible by 3\n",
      "12 element is divisible by 3\n",
      "13 element is not divisible by 3\n",
      "14 element is not divisible by 3\n",
      "15 element is divisible by 3\n",
      "16 element is not divisible by 3\n",
      "17 element is not divisible by 3\n",
      "18 element is divisible by 3\n",
      "19 element is not divisible by 3\n",
      "20 element is not divisible by 3\n",
      "21 element is divisible by 3\n",
      "22 element is not divisible by 3\n",
      "23 element is not divisible by 3\n",
      "24 element is divisible by 3\n",
      "25 element is not divisible by 3\n"
     ]
    }
   ],
   "source": [
    "a = list(range(1,26))\n",
    "for i in a:\n",
    "    if i %3==0:\n",
    "        print(i, \"element is divisible by 3\")\n",
    "    else:\n",
    "        print(i, 'element is not divisible by 3')"
   ]
  },
  {
   "cell_type": "code",
   "execution_count": null,
   "id": "63183441",
   "metadata": {},
   "outputs": [],
   "source": [
    "'''\n",
    "Q7. What do you understand about mutable and immutable data types? Give examples for both showing\n",
    "this property.\n",
    "'''"
   ]
  },
  {
   "cell_type": "code",
   "execution_count": 22,
   "id": "feb83ee6",
   "metadata": {},
   "outputs": [
    {
     "name": "stdout",
     "output_type": "stream",
     "text": [
      "[10, 20] 2135465915840\n",
      "[10, 200] 2135465915840\n"
     ]
    }
   ],
   "source": [
    "# Mutable Datatype - Mutable data types are does data type which can be modified after its creation. eg. are list,dict and sets\n",
    "a = [10,20]\n",
    "print(a,id(a))\n",
    "# here varibale a can be modified\n",
    "a[1]=200\n",
    "print(a,id(a))\n",
    "\n",
    "# In case of mutbale data type, varibale store at id does not change, it means changes has been done at the same place"
   ]
  },
  {
   "cell_type": "code",
   "execution_count": 23,
   "id": "2b5edcbf",
   "metadata": {},
   "outputs": [
    {
     "name": "stdout",
     "output_type": "stream",
     "text": [
      "(10, 20, 30) 2135467375488\n"
     ]
    },
    {
     "ename": "TypeError",
     "evalue": "'tuple' object does not support item assignment",
     "output_type": "error",
     "traceback": [
      "\u001b[1;31m---------------------------------------------------------------------------\u001b[0m",
      "\u001b[1;31mTypeError\u001b[0m                                 Traceback (most recent call last)",
      "Cell \u001b[1;32mIn[23], line 5\u001b[0m\n\u001b[0;32m      3\u001b[0m \u001b[38;5;28mprint\u001b[39m(b,\u001b[38;5;28mid\u001b[39m(b))\n\u001b[0;32m      4\u001b[0m \u001b[38;5;66;03m# here we can't modify the variable b\u001b[39;00m\n\u001b[1;32m----> 5\u001b[0m \u001b[43mb\u001b[49m\u001b[43m[\u001b[49m\u001b[38;5;241;43m1\u001b[39;49m\u001b[43m]\u001b[49m\u001b[38;5;241m=\u001b[39m\u001b[38;5;241m200\u001b[39m\n\u001b[0;32m      6\u001b[0m \u001b[38;5;28mprint\u001b[39m(b,\u001b[38;5;28mid\u001b[39m(b))\n",
      "\u001b[1;31mTypeError\u001b[0m: 'tuple' object does not support item assignment"
     ]
    }
   ],
   "source": [
    "# Immutable Data type - Immutable data types are are which can not be modified or change after its creation. eg. tuple,int,float,string\n",
    "b = (10,20,30)\n",
    "print(b,id(b))\n",
    "# here we can't modify the variable b\n",
    "b[1]=200\n",
    "print(b,id(b)) # It gives us error."
   ]
  }
 ],
 "metadata": {
  "kernelspec": {
   "display_name": "Python 3 (ipykernel)",
   "language": "python",
   "name": "python3"
  },
  "language_info": {
   "codemirror_mode": {
    "name": "ipython",
    "version": 3
   },
   "file_extension": ".py",
   "mimetype": "text/x-python",
   "name": "python",
   "nbconvert_exporter": "python",
   "pygments_lexer": "ipython3",
   "version": "3.10.5"
  }
 },
 "nbformat": 4,
 "nbformat_minor": 5
}
