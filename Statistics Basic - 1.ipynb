{
 "cells": [
  {
   "cell_type": "markdown",
   "id": "72b02ada",
   "metadata": {},
   "source": [
    "\n",
    "Q1. What is Statistics?"
   ]
  },
  {
   "cell_type": "code",
   "execution_count": null,
   "id": "90d524b9",
   "metadata": {},
   "outputs": [],
   "source": [
    "# Answer\n",
    "'It is a science of collecting, organizing and analyzing the data'"
   ]
  },
  {
   "cell_type": "markdown",
   "id": "8372fe33",
   "metadata": {},
   "source": [
    "Q2. Define the different types of statistics and give an example of when each type might be used."
   ]
  },
  {
   "cell_type": "code",
   "execution_count": null,
   "id": "0f17751f",
   "metadata": {},
   "outputs": [],
   "source": [
    "'''\n",
    "Two types of Statistics:\n",
    "    1. Descriptive - It consists of organizing and summerizing the data\n",
    "    Eg. Calulating average height of student in the class.\n",
    "    2. Inferential - It consists of using data you have measured to form conclusion\n",
    "    Eg. Are the average height of the student in classromm is similar to the average height of the entire school.\n",
    "'''"
   ]
  },
  {
   "cell_type": "markdown",
   "id": "7aa9f5ef",
   "metadata": {},
   "source": [
    "Q3. What are the different types of data and how do they differ from each other? Provide an example of\n",
    "each type of data."
   ]
  },
  {
   "cell_type": "code",
   "execution_count": null,
   "id": "1460dd2c",
   "metadata": {},
   "outputs": [],
   "source": [
    "There are two type of Data:\n",
    "    1. Quantitative Data\n",
    "        i) Discrete - Whole number i.e no.of bank account, no. of children in family\n",
    "        ii) Continous - Any Value i.e Height, temp, Speed\n",
    "    2. Qualitative Data\n",
    "        i)Nominal - i.e (M,F),Blood Group, Color of eye\n",
    "        ii) Ordinal - Rank data i.e Good,Bad, Satisfactory"
   ]
  },
  {
   "cell_type": "markdown",
   "id": "7bfcfd77",
   "metadata": {},
   "source": [
    "Q4. Categorise the following datasets with respect to quantitative and qualitative data types:\n",
    "(i) Grading in exam: A+, A, B+, B, C+, C, D, E\n",
    "(ii) Colour of mangoes: yellow, green, orange, red\n",
    "(iii) Height data of a class: [178.9, 179, 179.5, 176, 177.2, 178.3, 175.8,...]\n",
    "(iv) Number of mangoes exported by a farm: [500, 600, 478, 672, ...]"
   ]
  },
  {
   "cell_type": "code",
   "execution_count": null,
   "id": "c50c1afb",
   "metadata": {},
   "outputs": [],
   "source": [
    "(i) Grading in exam: A+, A, B+, B, C+, C, D, E - Ordinal Data\n",
    "(ii) Colour of mangoes: yellow, green, orange, red - Nominal Data\n",
    "(iii) Height data of a class: [178.9, 179, 179.5, 176, 177.2, 178.3, 175.8,...] - Continuous Data\n",
    "(iv) Number of mangoes exported by a farm: [500, 600, 478, 672, ...] - Discrete Data"
   ]
  },
  {
   "cell_type": "markdown",
   "id": "cc5d3509",
   "metadata": {},
   "source": [
    "Q5. Explain the concept of levels of measurement and give an example of a variable for each level."
   ]
  },
  {
   "cell_type": "code",
   "execution_count": null,
   "id": "e766e38d",
   "metadata": {},
   "outputs": [],
   "source": [
    "# Level of measurement - It is used to describe the information within the values"
   ]
  },
  {
   "cell_type": "markdown",
   "id": "67dabdd9",
   "metadata": {},
   "source": [
    "1. Nominal Scale Data - (Qualitative/Categorical variable,Order doesn't matter)\n",
    "Taken sample of 10 people\n",
    "Red - 5\n",
    "Blue - 3\n",
    "Yellow - 2\n",
    "2. Oridnal Scale Data - (Ranking and Order Matter, Difference can't be measure )\n",
    "Eg We have qualification dataset\n",
    "Phd -1st Rank\n",
    "BE - 3rd\n",
    "Master - 2nd\n",
    "B.Com - 5th\n",
    "B.Sc - 4th\n",
    "3. Interval Scale Data -  (Ranking and Order Matter, Difference can be measure(excluding ration), ratio can't be measured, DOesn't have 0 starting value)\n",
    "Eg. Temperature data\n",
    "4. Ratio Scale Data - Ranking and Order Matter, Difference can be measure(excluding ration), ratio can be measured, It Does have 0 starting value)\n",
    "Eg. Grades - "
   ]
  },
  {
   "cell_type": "markdown",
   "id": "a8f4c329",
   "metadata": {},
   "source": [
    "Q6. Why is it important to understand the level of measurement when analyzing data? Provide an\n",
    "example to illustrate your answer."
   ]
  },
  {
   "cell_type": "markdown",
   "id": "1a92f1e8",
   "metadata": {},
   "source": [
    "It is impoartant because it determines the types of statistical analyses and interpretations that can be appropriately applied to the data. "
   ]
  },
  {
   "cell_type": "markdown",
   "id": "5c584de1",
   "metadata": {},
   "source": [
    "Example:\n",
    "\n",
    "Let's consider an example where we analyze data from a survey about customer satisfaction with a restaurant's food quality. The survey asked customers to rate the food taste on a scale from 1 to 5 (1 being \"poor\" and 5 being \"excellent\").\n",
    "\n",
    "- Nominal level: The restaurant location or the gender of the respondents could be examples of nominal data. You could calculate the frequency of different locations or genders.\n",
    "\n",
    "- Ordinal level: The ratings of the food taste on a scale of 1 to 5 represent ordinal data. You could calculate the median or mode of the ratings.\n",
    "\n",
    "- Interval level: Suppose the survey also included a question asking customers to rate their overall experience on a scale from 0 to 10. This would be an example of interval data. You could calculate the mean or standard deviation of these ratings.\n",
    "\n",
    "- Ratio level: If the survey included a question about the number of times customers visited the restaurant in the past month, this would be an example of ratio data. You could calculate the mean, median, and range of visit frequencies."
   ]
  },
  {
   "cell_type": "markdown",
   "id": "22ae7d07",
   "metadata": {},
   "source": [
    "Q7. How nominal data type is different from ordinal data type."
   ]
  },
  {
   "cell_type": "markdown",
   "id": "64424f13",
   "metadata": {},
   "source": [
    "Nominal data is a type of categorical data where items are placed into distinct categories, and there is no inherent order or ranking among these categories whereas Ordinal data is also a type of categorical data, but in this case, the categories have a natural order or ranking."
   ]
  },
  {
   "cell_type": "code",
   "execution_count": null,
   "id": "b08983d0",
   "metadata": {},
   "outputs": [],
   "source": [
    "Q8. Which type of plot can be used to display data in terms of range?"
   ]
  },
  {
   "cell_type": "code",
   "execution_count": null,
   "id": "4e5f3294",
   "metadata": {},
   "outputs": [],
   "source": [
    "# Box plot can be used to display data in terms of range"
   ]
  },
  {
   "cell_type": "code",
   "execution_count": null,
   "id": "b2bae5a3",
   "metadata": {},
   "outputs": [],
   "source": [
    "Q9. Describe the difference between descriptive and inferential statistics. Give an example of each\n",
    "type of statistics and explain how they are used."
   ]
  },
  {
   "cell_type": "code",
   "execution_count": null,
   "id": "6714963f",
   "metadata": {},
   "outputs": [],
   "source": [
    "1. Descriptive - It consists of organizing and summerizing the data\n",
    "    Eg. Calulating average height of student in the class.\n",
    "    Let us consider we have a sample data of heights of 50 students in a class.\n",
    "    Then we can calcuate the average height of the class.\n",
    "2. Inferential - It consists of using data you have measured to form conclusion\n",
    "    Eg. Are the average height of the student in classromm is similar to the average height of the entire school.\n",
    "    from the above example, we can conclude that whether the average height of the class is greater than average height of \n",
    "    school or not.\n",
    "    "
   ]
  },
  {
   "cell_type": "code",
   "execution_count": null,
   "id": "1ca1fa5c",
   "metadata": {},
   "outputs": [],
   "source": [
    "Q10. What are some common measures of central tendency and variability used in statistics? Explain\n",
    "how each measure can be used to describe a dataset."
   ]
  },
  {
   "cell_type": "markdown",
   "id": "07893acc",
   "metadata": {},
   "source": [
    "some common measures of central tendency are:-\n",
    "- Mean - It will calculate the average of entire data value.\n",
    "- Median - It will also calculate the average in dataset and best suits if any outliers available in dataset.\n",
    "- Mode - It will give the maximum frequency data from entire dataset\n",
    "some common measures of variability are:-\n",
    "- Variance - It is used to describe how data is spread, if variance is less then spread will be less vic-e-versa.\n",
    "- Standard Deviation - It is a measure of how disperse the data is in relation to mean/median."
   ]
  }
 ],
 "metadata": {
  "kernelspec": {
   "display_name": "Python 3 (ipykernel)",
   "language": "python",
   "name": "python3"
  },
  "language_info": {
   "codemirror_mode": {
    "name": "ipython",
    "version": 3
   },
   "file_extension": ".py",
   "mimetype": "text/x-python",
   "name": "python",
   "nbconvert_exporter": "python",
   "pygments_lexer": "ipython3",
   "version": "3.10.5"
  }
 },
 "nbformat": 4,
 "nbformat_minor": 5
}
