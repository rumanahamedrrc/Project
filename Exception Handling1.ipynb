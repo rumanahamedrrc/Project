{
 "cells": [
  {
   "cell_type": "markdown",
   "id": "333c0f31",
   "metadata": {},
   "source": [
    "Q1. What is an Exception in python? Write the difference between Exceptions and syntax errors"
   ]
  },
  {
   "cell_type": "markdown",
   "id": "c4652870",
   "metadata": {},
   "source": [
    "Answer - \n",
    "An exception is an event that occurs during the execution of a program, which disrupts the normal flow of the program. It is a way to handle and manage errors or exceptional situations that can occur during program execution."
   ]
  },
  {
   "cell_type": "markdown",
   "id": "5752bdc3",
   "metadata": {},
   "source": [
    "Difference between Exceptions and syntax errors are:- \n"
   ]
  },
  {
   "cell_type": "markdown",
   "id": "4e3db76d",
   "metadata": {},
   "source": [
    "# Exception\n",
    " - Occur during program execution\n",
    " - Result from exceptional conditions or events\n",
    " - Can occur even if code's syntax is correct\n",
    " - Examples: ValueError, TypeError, FileNotFoundError"
   ]
  },
  {
   "cell_type": "markdown",
   "id": "bf7ccbba",
   "metadata": {},
   "source": [
    "# Syntax Errors\n",
    "- Detected during parsing/compiling phase\n",
    "- Violations of language grammar rules\n",
    "- Indicate invalid syntax or structure in the code\n",
    "- Examples: Missing parentheses, invalid keywords"
   ]
  },
  {
   "cell_type": "markdown",
   "id": "c88b1f42",
   "metadata": {},
   "source": [
    "Q2. What happens when an exception is not handled? Explain with an example"
   ]
  },
  {
   "cell_type": "markdown",
   "id": "b0af7e1f",
   "metadata": {},
   "source": [
    "Answer - \n",
    "When an exception is not handled in a Python program, it leads to the termination of the program's normal execution flow."
   ]
  },
  {
   "cell_type": "code",
   "execution_count": 1,
   "id": "20acbe48",
   "metadata": {},
   "outputs": [
    {
     "ename": "ZeroDivisionError",
     "evalue": "division by zero",
     "output_type": "error",
     "traceback": [
      "\u001b[1;31m---------------------------------------------------------------------------\u001b[0m",
      "\u001b[1;31mZeroDivisionError\u001b[0m                         Traceback (most recent call last)",
      "Cell \u001b[1;32mIn[1], line 8\u001b[0m\n\u001b[0;32m      5\u001b[0m     result \u001b[38;5;241m=\u001b[39m divide(\u001b[38;5;241m10\u001b[39m, \u001b[38;5;241m0\u001b[39m)\n\u001b[0;32m      6\u001b[0m     \u001b[38;5;28mprint\u001b[39m(result)\n\u001b[1;32m----> 8\u001b[0m \u001b[43mcalculate\u001b[49m\u001b[43m(\u001b[49m\u001b[43m)\u001b[49m\n",
      "Cell \u001b[1;32mIn[1], line 5\u001b[0m, in \u001b[0;36mcalculate\u001b[1;34m()\u001b[0m\n\u001b[0;32m      4\u001b[0m \u001b[38;5;28;01mdef\u001b[39;00m \u001b[38;5;21mcalculate\u001b[39m():\n\u001b[1;32m----> 5\u001b[0m     result \u001b[38;5;241m=\u001b[39m \u001b[43mdivide\u001b[49m\u001b[43m(\u001b[49m\u001b[38;5;241;43m10\u001b[39;49m\u001b[43m,\u001b[49m\u001b[43m \u001b[49m\u001b[38;5;241;43m0\u001b[39;49m\u001b[43m)\u001b[49m\n\u001b[0;32m      6\u001b[0m     \u001b[38;5;28mprint\u001b[39m(result)\n",
      "Cell \u001b[1;32mIn[1], line 2\u001b[0m, in \u001b[0;36mdivide\u001b[1;34m(a, b)\u001b[0m\n\u001b[0;32m      1\u001b[0m \u001b[38;5;28;01mdef\u001b[39;00m \u001b[38;5;21mdivide\u001b[39m(a, b):\n\u001b[1;32m----> 2\u001b[0m     \u001b[38;5;28;01mreturn\u001b[39;00m \u001b[43ma\u001b[49m\u001b[43m \u001b[49m\u001b[38;5;241;43m/\u001b[39;49m\u001b[43m \u001b[49m\u001b[43mb\u001b[49m\n",
      "\u001b[1;31mZeroDivisionError\u001b[0m: division by zero"
     ]
    }
   ],
   "source": [
    "def divide(a, b):\n",
    "    return a / b\n",
    "\n",
    "def calculate():\n",
    "    result = divide(10, 0)\n",
    "    print(result)\n",
    "\n",
    "calculate()\n"
   ]
  },
  {
   "cell_type": "markdown",
   "id": "fba1b03c",
   "metadata": {},
   "source": [
    "Q3. Which Python statements are used to catch and handle exceptions? Explain with an example"
   ]
  },
  {
   "cell_type": "markdown",
   "id": "a843664f",
   "metadata": {},
   "source": [
    "Answer - \n",
    "The try and except statements are used to catch and handle exceptions. The try block contains the code where an exception may occur, and the except block is used to define the handling logic for specific types of exceptions."
   ]
  },
  {
   "cell_type": "code",
   "execution_count": null,
   "id": "0b1a77cd",
   "metadata": {},
   "outputs": [],
   "source": [
    "def divide(a, b):\n",
    "    try:\n",
    "        result = a / b\n",
    "        print(\"Division result:\", result)\n",
    "    except ZeroDivisionError:\n",
    "        print(\"Error: Division by zero is not allowed.\")\n",
    "\n",
    "# Example 1: Division by non-zero number\n",
    "divide(10, 2)\n",
    "# Output: Division result: 5.0\n",
    "\n",
    "# Example 2: Division by zero\n",
    "divide(10, 0)\n",
    "# Output: Error: Division by zero is not allowed.\n"
   ]
  },
  {
   "cell_type": "markdown",
   "id": "99c0c9b8",
   "metadata": {},
   "source": [
    "Q4. Explain with an example:\n",
    "\n",
    "- try and else\n",
    "- finally\n",
    "- raise"
   ]
  },
  {
   "cell_type": "code",
   "execution_count": null,
   "id": "bf936193",
   "metadata": {},
   "outputs": [],
   "source": [
    "# Try and else\n",
    "'''\n",
    "The try block is used to enclose the code where an exception may occur. \n",
    "The else block, which is optional, is executed if no exceptions are raised within the try block.\n",
    "'''"
   ]
  },
  {
   "cell_type": "code",
   "execution_count": null,
   "id": "4402e988",
   "metadata": {},
   "outputs": [],
   "source": [
    "def divide(a, b):\n",
    "    try:\n",
    "        result = a / b\n",
    "    except ZeroDivisionError:\n",
    "        print(\"Error: Division by zero is not allowed.\")\n",
    "    else:\n",
    "        print(\"Division result:\", result)\n",
    "\n",
    "divide(10, 2)\n",
    "\n",
    "divide(10, 0)\n"
   ]
  },
  {
   "cell_type": "code",
   "execution_count": null,
   "id": "7d3cb1d6",
   "metadata": {},
   "outputs": [],
   "source": [
    "# Finally\n",
    "'''\n",
    "The finally block is used to specify code that is always executed, regardless of whether an exception occurs or not. \n",
    "It is typically used for cleanup or finalization tasks.\n",
    "'''"
   ]
  },
  {
   "cell_type": "code",
   "execution_count": null,
   "id": "271412ad",
   "metadata": {},
   "outputs": [],
   "source": [
    "def open_file(file_path):\n",
    "    try:\n",
    "        file = open(file_path, \"r\")\n",
    "        contents = file.read()\n",
    "        print(\"File contents:\", contents)\n",
    "    except FileNotFoundError:\n",
    "        print(\"Error: File not found.\")\n",
    "    finally:\n",
    "        file.close()\n",
    "        print(\"File closed.\")\n",
    "\n",
    "# Example 1: Existing file\n",
    "open_file(\"example.txt\")\n",
    "# Output: File contents: This is an example file.\n",
    "#         File closed.\n",
    "\n",
    "# Example 2: Non-existent file\n",
    "open_file(\"nonexistent.txt\")\n",
    "# Output: Error: File not found.\n",
    "#         File closed.\n"
   ]
  },
  {
   "cell_type": "code",
   "execution_count": null,
   "id": "779121de",
   "metadata": {},
   "outputs": [],
   "source": [
    "# Raise\n",
    "'''\n",
    "The raise keyword is used to manually raise an exception in Python. \n",
    "It allows you to create custom exceptions or raise built-in exceptions with specific messages.\n",
    "'''"
   ]
  },
  {
   "cell_type": "code",
   "execution_count": null,
   "id": "5bf0069a",
   "metadata": {},
   "outputs": [],
   "source": [
    "def validate_age(age):\n",
    "    if age < 0:\n",
    "        raise ValueError(\"Age must be non-negative.\")\n",
    "    else:\n",
    "        print(\"Valid age:\", age)\n",
    "\n",
    "# Example 1: Valid age\n",
    "validate_age(25)\n",
    "# Output: Valid age: 25\n",
    "\n",
    "# Example 2: Invalid age\n",
    "validate_age(-5)\n",
    "# Output: ValueError: Age must be non-negative.\n"
   ]
  },
  {
   "cell_type": "markdown",
   "id": "7e7d817c",
   "metadata": {},
   "source": [
    "Q5. What are Custom Exceptions in python? Why do we need Custom Exceptions? Explain witha n example"
   ]
  },
  {
   "cell_type": "markdown",
   "id": "fd0c170d",
   "metadata": {},
   "source": [
    "Answer -\n",
    "\n",
    "Custom exceptions in Python are user-defined exceptions that allow you to create your own exception types specific to your application or problem domain. \n",
    "\n",
    "We need custom exceptions in Python for several reasons:\n",
    "- Specific Error Handling\n",
    "- Modularity and Code Organization\n",
    "- Clearer Code Flow\n"
   ]
  },
  {
   "cell_type": "markdown",
   "id": "0179d936",
   "metadata": {},
   "source": [
    "Q6. Create custom exception class. Use this class to handle an exception."
   ]
  },
  {
   "cell_type": "code",
   "execution_count": null,
   "id": "1e127c52",
   "metadata": {},
   "outputs": [],
   "source": [
    "class WithdrawalError(Exception):\n",
    "    def __init__(self, amount, balance):\n",
    "        self.amount = amount\n",
    "        self.balance = balance\n",
    "\n",
    "    def __str__(self):\n",
    "        return f\"WithdrawalError: Insufficient balance. Attempted to withdraw {self.amount}, but balance is {self.balance}.\"\n",
    "\n",
    "def withdraw(amount, balance):\n",
    "    if amount > balance:\n",
    "        raise WithdrawalError(amount, balance)\n",
    "    else:\n",
    "        print(\"Withdrawal successful.\")\n",
    "\n",
    "# Example 1: Sufficient balance\n",
    "try:\n",
    "    withdraw(50, 100)\n",
    "except WithdrawalError as e:\n",
    "    print(e)\n",
    "# Output: Withdrawal successful.\n",
    "\n",
    "# Example 2: Insufficient balance\n",
    "try:\n",
    "    withdraw(200, 100)\n",
    "except WithdrawalError as e:\n",
    "    print(e)\n",
    "# Output: WithdrawalError: Insufficient balance. Attempted to withdraw 200, but balance is 100.\n"
   ]
  },
  {
   "cell_type": "code",
   "execution_count": null,
   "id": "0b6dc538",
   "metadata": {},
   "outputs": [],
   "source": []
  },
  {
   "cell_type": "code",
   "execution_count": null,
   "id": "92a766ca",
   "metadata": {},
   "outputs": [],
   "source": []
  }
 ],
 "metadata": {
  "kernelspec": {
   "display_name": "Python 3 (ipykernel)",
   "language": "python",
   "name": "python3"
  },
  "language_info": {
   "codemirror_mode": {
    "name": "ipython",
    "version": 3
   },
   "file_extension": ".py",
   "mimetype": "text/x-python",
   "name": "python",
   "nbconvert_exporter": "python",
   "pygments_lexer": "ipython3",
   "version": "3.10.5"
  }
 },
 "nbformat": 4,
 "nbformat_minor": 5
}
