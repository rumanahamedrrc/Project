{
 "cells": [
  {
   "cell_type": "markdown",
   "id": "20cc8135",
   "metadata": {},
   "source": [
    "Q1. What is MongoDB? Explain non-relational databases in short. In which scenarios it is preferred to use\n",
    "MongoDB over SQL databases?"
   ]
  },
  {
   "cell_type": "markdown",
   "id": "03097f56",
   "metadata": {},
   "source": [
    "Answer - \n",
    "MongoDB is a popular NoSQL database that provides a flexible and scalable approach to storing and retrieving data. It is designed to handle large volumes of unstructured and semi-structured data, making it suitable for various applications.\n",
    "\n",
    "\n",
    "A non-relational database, or NoSQL database, is a flexible and scalable data management system that does not rely on fixed table schemas.\n",
    "\n",
    "MongoDB is typically preferred in the following scenarios:\n",
    "\n",
    "- Unstructured or Semi-Structured Data\n",
    "- Agile Development: MongoDB's flexible schema allows for easy and agile development. It enables developers to iterate quickly and adapt to changing data requirements without the need for complex migrations or schema modifications.\n",
    "- Big Data and Scalability\n",
    "- Real-time Analytics\n",
    "- Rapid Prototyping and Startups\n",
    "- Content Management Systems"
   ]
  },
  {
   "cell_type": "markdown",
   "id": "93132554",
   "metadata": {},
   "source": [
    "Q2. State and Explain the features of MongoDB."
   ]
  },
  {
   "cell_type": "markdown",
   "id": "a2bb4824",
   "metadata": {},
   "source": [
    "MongoDB is a popular NoSQL database that offers a range of features to efficiently manage and query large volumes of unstructured and semi-structured data. \n",
    "\n",
    "Some key features of MongoDB are:\n",
    "\n",
    "- Document-Oriented: MongoDB is a document-oriented database, where data is stored as JSON-like documents known as BSON (Binary JSON).\n",
    "- Scalability and High Performance: MongoDB is designed to handle high volumes of data and traffic, making it highly scalable. It supports horizontal scaling through sharding, distributing data across multiple servers, and providing automatic load balancing.\n",
    "- Ad Hoc Queries: MongoDB supports ad hoc queries, allowing users to query data using a flexible and expressive query language.\n",
    "- Indexing and Aggregation: MongoDB provides indexing capabilities to improve query performance by creating indexes on specific fields.\n",
    "- High Availability and Fault Tolerance: MongoDB offers high availability and fault tolerance through replica sets.\n",
    "- Flexibility and Easy Integration: MongoDB integrates well with various programming languages and frameworks, allowing developers to work with their preferred tools. \n",
    "- Document Validation and Schema Validation: MongoDB allows users to define document validation rules, ensuring data consistency and integrity.\n",
    "- Security and Access Control: MongoDB provides features for secure data management.\n"
   ]
  },
  {
   "cell_type": "markdown",
   "id": "fb519b8b",
   "metadata": {},
   "source": [
    "Q3. Write a code to connect MongoDB to Python. Also, create a database and a collection in MongoDB."
   ]
  },
  {
   "cell_type": "code",
   "execution_count": null,
   "id": "84871a55",
   "metadata": {},
   "outputs": [],
   "source": [
    "import pymongo\n",
    "\n",
    "# Establish a connection to MongoDB\n",
    "client = pymongo.MongoClient(\"mongodb://localhost:27017/\")\n",
    "\n",
    "# Create a database\n",
    "mydb = client[\"mydatabase\"]\n",
    "\n",
    "# Create a collection\n",
    "mycol = mydb[\"mycollection\"]\n",
    "\n",
    "# Insert a document into the collection\n",
    "data = {\"name\": \"John\", \"age\": 30}\n",
    "mycol.insert_one(data)\n",
    "\n",
    "# Close the connection\n",
    "client.close()"
   ]
  },
  {
   "cell_type": "markdown",
   "id": "bf29fbc1",
   "metadata": {},
   "source": [
    "Q4. Using the database and the collection created in question number 3, write a code to insert one record,\n",
    "and insert many records. Use the find() and find_one() methods to print the inserted record."
   ]
  },
  {
   "cell_type": "code",
   "execution_count": null,
   "id": "5ccc13fc",
   "metadata": {},
   "outputs": [],
   "source": [
    "import pymongo\n",
    "\n",
    "# Establish a connection to MongoDB\n",
    "client = pymongo.MongoClient(\"mongodb://localhost:27017/\")\n",
    "\n",
    "# Access the database and collection\n",
    "mydb = client[\"mydatabase\"]\n",
    "mycol = mydb[\"mycollection\"]\n",
    "\n",
    "# Insert one record\n",
    "data1 = {\"name\": \"Alice\", \"age\": 25}\n",
    "mycol.insert_one(data1)\n",
    "print(\"Inserted record:\")\n",
    "print(mycol.find_one())  # Print the inserted record\n",
    "\n",
    "# Insert multiple records\n",
    "data2 = [\n",
    "    {\"name\": \"Bob\", \"age\": 30},\n",
    "    {\"name\": \"Charlie\", \"age\": 35},\n",
    "    {\"name\": \"David\", \"age\": 40}\n",
    "]\n",
    "mycol.insert_many(data2)\n",
    "\n",
    "# Print all records\n",
    "print(\"All records:\")\n",
    "for record in mycol.find():\n",
    "    print(record)\n",
    "\n",
    "# Close the connection\n",
    "client.close()\n"
   ]
  },
  {
   "cell_type": "markdown",
   "id": "c816cb35",
   "metadata": {},
   "source": [
    "Q5. Explain how you can use the find() method to query the MongoDB database. Write a simple code to\n",
    "demonstrate this."
   ]
  },
  {
   "cell_type": "code",
   "execution_count": null,
   "id": "a6e67fdb",
   "metadata": {},
   "outputs": [],
   "source": [
    "import pymongo\n",
    "\n",
    "# Establish a connection to MongoDB\n",
    "client = pymongo.MongoClient(\"mongodb://localhost:27017/\")\n",
    "\n",
    "# Access the database and collection\n",
    "mydb = client[\"mydatabase\"]\n",
    "mycol = mydb[\"mycollection\"]\n",
    "\n",
    "# Insert some sample data\n",
    "data = [\n",
    "    {\"name\": \"Alice\", \"age\": 25, \"city\": \"New York\"},\n",
    "    {\"name\": \"Bob\", \"age\": 30, \"city\": \"London\"},\n",
    "    {\"name\": \"Charlie\", \"age\": 35, \"city\": \"Paris\"},\n",
    "    {\"name\": \"David\", \"age\": 40, \"city\": \"Tokyo\"}\n",
    "]\n",
    "mycol.insert_many(data)\n",
    "\n",
    "# Find documents with age greater than 30\n",
    "query = {\"age\": {\"$gt\": 30}}\n",
    "results = mycol.find(query)\n",
    "\n",
    "# Print the retrieved documents\n",
    "print(\"Documents with age greater than 30:\")\n",
    "for doc in results:\n",
    "    print(doc)\n",
    "\n",
    "# Close the connection\n",
    "client.close()\n"
   ]
  },
  {
   "cell_type": "markdown",
   "id": "89fd2a69",
   "metadata": {},
   "source": [
    "Q6. Explain the sort() method. Give an example to demonstrate sorting in MongoDB."
   ]
  },
  {
   "cell_type": "markdown",
   "id": "67dfbb4f",
   "metadata": {},
   "source": [
    "Answer - \n",
    "\n",
    "The sort() method in MongoDB is used to sort the retrieved documents in a specific order based on one or more fields. "
   ]
  },
  {
   "cell_type": "code",
   "execution_count": null,
   "id": "aa224247",
   "metadata": {},
   "outputs": [],
   "source": [
    "import pymongo\n",
    "\n",
    "# Establish a connection to MongoDB\n",
    "client = pymongo.MongoClient(\"mongodb://localhost:27017/\")\n",
    "\n",
    "# Access the database and collection\n",
    "mydb = client[\"mydatabase\"]\n",
    "mycol = mydb[\"mycollection\"]\n",
    "\n",
    "# Insert some sample data\n",
    "data = [\n",
    "    {\"name\": \"Alice\", \"age\": 25},\n",
    "    {\"name\": \"Bob\", \"age\": 30},\n",
    "    {\"name\": \"Charlie\", \"age\": 35},\n",
    "    {\"name\": \"David\", \"age\": 40}\n",
    "]\n",
    "mycol.insert_many(data)\n",
    "\n",
    "# Sort documents by age in ascending order\n",
    "results_asc = mycol.find().sort(\"age\", 1)\n",
    "\n",
    "# Print the retrieved documents in ascending order\n",
    "print(\"Documents sorted by age in ascending order:\")\n",
    "for doc in results_asc:\n",
    "    print(doc)\n",
    "\n",
    "# Sort documents by age in descending order\n",
    "results_desc = mycol.find().sort(\"age\", -1)\n",
    "\n",
    "# Print the retrieved documents in descending order\n",
    "print(\"Documents sorted by age in descending order:\")\n",
    "for doc in results_desc:\n",
    "    print(doc)\n",
    "\n",
    "# Close the connection\n",
    "client.close()\n"
   ]
  },
  {
   "cell_type": "markdown",
   "id": "557299eb",
   "metadata": {},
   "source": [
    "Q7. Explain why delete_one(), delete_many(), and drop() is used."
   ]
  },
  {
   "cell_type": "markdown",
   "id": "9e4b793f",
   "metadata": {},
   "source": [
    "- The delete_one() method is used to delete a single document that matches a specified filter. It removes the first document that matches the filter criteria.\n",
    "\n",
    "- The delete_many() method is used to delete multiple documents that match a specified filter. It removes all documents that match the filter criteria.\n",
    "\n",
    "- The drop() method is used to remove an entire collection from a database."
   ]
  }
 ],
 "metadata": {
  "kernelspec": {
   "display_name": "Python 3 (ipykernel)",
   "language": "python",
   "name": "python3"
  },
  "language_info": {
   "codemirror_mode": {
    "name": "ipython",
    "version": 3
   },
   "file_extension": ".py",
   "mimetype": "text/x-python",
   "name": "python",
   "nbconvert_exporter": "python",
   "pygments_lexer": "ipython3",
   "version": "3.10.5"
  }
 },
 "nbformat": 4,
 "nbformat_minor": 5
}
