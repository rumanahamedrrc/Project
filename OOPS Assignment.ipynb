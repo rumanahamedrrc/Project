{
 "cells": [
  {
   "cell_type": "markdown",
   "id": "a694958f",
   "metadata": {},
   "source": [
    "Q1. Explain Class and Object with respect to Object-Oriented Programming. Give a suitable example."
   ]
  },
  {
   "cell_type": "markdown",
   "id": "f11fdf7e",
   "metadata": {},
   "source": [
    "Answer 1-\n",
    "Class is a blue print. It is a collection of class variable and methods.\n",
    "An Object is an instance of a Class."
   ]
  },
  {
   "cell_type": "code",
   "execution_count": 2,
   "id": "14d0ce24",
   "metadata": {},
   "outputs": [],
   "source": [
    "#Example-\n",
    "class abc: #Class\n",
    "    \n",
    "    def method1(self):\n",
    "        print(\"This is my assignment class\")"
   ]
  },
  {
   "cell_type": "code",
   "execution_count": 3,
   "id": "a937d4a1",
   "metadata": {},
   "outputs": [
    {
     "name": "stdout",
     "output_type": "stream",
     "text": [
      "This is my assignment class\n"
     ]
    }
   ],
   "source": [
    "obj = abc() #Object\n",
    "obj.method1()"
   ]
  },
  {
   "cell_type": "markdown",
   "id": "b19cc310",
   "metadata": {},
   "source": [
    "Q2. Name the four pillars of OOPs."
   ]
  },
  {
   "cell_type": "markdown",
   "id": "4195e554",
   "metadata": {},
   "source": [
    "Four pillars of OOP's are:-\n",
    "1. Inheritence\n",
    "2. Polymorphism\n",
    "3. Abstraction\n",
    "4. Encapsulation"
   ]
  },
  {
   "cell_type": "markdown",
   "id": "e04a8ec5",
   "metadata": {},
   "source": [
    "Q3. Explain why the __init__() function is used. Give a suitable example."
   ]
  },
  {
   "cell_type": "markdown",
   "id": "9fd4e659",
   "metadata": {},
   "source": [
    "Answer-\n",
    "The __init__() function is used to initaitilze the class variable.\n",
    "It envokes as object of a class is created."
   ]
  },
  {
   "cell_type": "code",
   "execution_count": null,
   "id": "98c05b91",
   "metadata": {},
   "outputs": [],
   "source": [
    "#  Example\n",
    "class abc: #Class\n",
    "    \n",
    "    def method1(self):\n",
    "        print(\"This is my assignment class\")\n"
   ]
  },
  {
   "cell_type": "markdown",
   "id": "b8988dde",
   "metadata": {},
   "source": [
    "Q4. Why self is used in OOPs?"
   ]
  },
  {
   "cell_type": "markdown",
   "id": "1fee6b5e",
   "metadata": {},
   "source": [
    "Answer-\n",
    "It is a reference or pointer which states that method or attributes belong to a class."
   ]
  },
  {
   "cell_type": "markdown",
   "id": "366391fc",
   "metadata": {},
   "source": [
    "Q5. What is inheritance? Give an example for each type of inheritance."
   ]
  },
  {
   "cell_type": "markdown",
   "id": "930fff25",
   "metadata": {},
   "source": [
    "Answer - Inheritance is a fundamental concept in object-oriented programming (OOP) that allows classes to inherit properties and methods from other classes. It enables code reusable."
   ]
  },
  {
   "cell_type": "code",
   "execution_count": null,
   "id": "935b8be6",
   "metadata": {},
   "outputs": [],
   "source": [
    "#Single Inheritence"
   ]
  },
  {
   "cell_type": "code",
   "execution_count": 1,
   "id": "2e3dc672",
   "metadata": {},
   "outputs": [
    {
     "name": "stdout",
     "output_type": "stream",
     "text": [
      "Toyota\n",
      "Driving the car.\n"
     ]
    }
   ],
   "source": [
    "class Vehicle:\n",
    "    def __init__(self, brand):\n",
    "        self.brand = brand\n",
    "\n",
    "    def drive(self):\n",
    "        print(\"Driving the vehicle.\")\n",
    "\n",
    "class Car(Vehicle):\n",
    "    def __init__(self, brand, model):\n",
    "        super().__init__(brand)\n",
    "        self.model = model\n",
    "\n",
    "    def drive(self):\n",
    "        print(\"Driving the car.\")\n",
    "\n",
    "my_car = Car(\"Toyota\", \"Corolla\")\n",
    "print(my_car.brand)  # Output: Toyota\n",
    "my_car.drive()       # Output: Driving the car.\n"
   ]
  },
  {
   "cell_type": "code",
   "execution_count": null,
   "id": "cd54e4ef",
   "metadata": {},
   "outputs": [],
   "source": [
    "# Multiple inheritance"
   ]
  },
  {
   "cell_type": "code",
   "execution_count": 2,
   "id": "c1f321cd",
   "metadata": {},
   "outputs": [
    {
     "name": "stdout",
     "output_type": "stream",
     "text": [
      "Eating...\n",
      "Flying...\n"
     ]
    }
   ],
   "source": [
    "class Animal:\n",
    "    def eat(self):\n",
    "        print(\"Eating...\")\n",
    "\n",
    "class Flyable:\n",
    "    def fly(self):\n",
    "        print(\"Flying...\")\n",
    "\n",
    "class Bird(Animal, Flyable):\n",
    "    pass\n",
    "\n",
    "my_bird = Bird()\n",
    "my_bird.eat()  \n",
    "my_bird.fly()  "
   ]
  },
  {
   "cell_type": "code",
   "execution_count": null,
   "id": "8e519acb",
   "metadata": {},
   "outputs": [],
   "source": [
    "# Multilevel inheritance"
   ]
  },
  {
   "cell_type": "code",
   "execution_count": 3,
   "id": "ca2bb6ab",
   "metadata": {},
   "outputs": [
    {
     "name": "stdout",
     "output_type": "stream",
     "text": [
      "Breathing...\n",
      "Feeding milk...\n",
      "Barking...\n"
     ]
    }
   ],
   "source": [
    "class Animal:\n",
    "    def breathe(self):\n",
    "        print(\"Breathing...\")\n",
    "\n",
    "class Mammal(Animal):\n",
    "    def feed_milk(self):\n",
    "        print(\"Feeding milk...\")\n",
    "\n",
    "class Dog(Mammal):\n",
    "    def bark(self):\n",
    "        print(\"Barking...\")\n",
    "\n",
    "my_dog = Dog()\n",
    "my_dog.breathe()   \n",
    "my_dog.feed_milk() \n",
    "my_dog.bark()       \n"
   ]
  },
  {
   "cell_type": "code",
   "execution_count": null,
   "id": "8dc1aea0",
   "metadata": {},
   "outputs": [],
   "source": [
    "# Hierarchical Inheritance"
   ]
  },
  {
   "cell_type": "code",
   "execution_count": 4,
   "id": "cb8e1cad",
   "metadata": {},
   "outputs": [
    {
     "name": "stdout",
     "output_type": "stream",
     "text": [
      "Buddy is eating.\n",
      "Whiskers is sleeping.\n",
      "Buddy is barking.\n",
      "Whiskers is meowing.\n"
     ]
    }
   ],
   "source": [
    "class Animal:\n",
    "    def __init__(self, name):\n",
    "        self.name = name\n",
    "\n",
    "    def eat(self):\n",
    "        print(f\"{self.name} is eating.\")\n",
    "\n",
    "    def sleep(self):\n",
    "        print(f\"{self.name} is sleeping.\")\n",
    "\n",
    "\n",
    "class Dog(Animal):\n",
    "    def bark(self):\n",
    "        print(f\"{self.name} is barking.\")\n",
    "\n",
    "\n",
    "class Cat(Animal):\n",
    "    def meow(self):\n",
    "        print(f\"{self.name} is meowing.\")\n",
    "\n",
    "\n",
    "# Creating instances of the subclasses\n",
    "dog = Dog(\"Buddy\")\n",
    "cat = Cat(\"Whiskers\")\n",
    "\n",
    "# Accessing methods from the superclass\n",
    "dog.eat()   # Output: Buddy is eating.\n",
    "cat.sleep() # Output: Whiskers is sleeping.\n",
    "\n",
    "# Accessing methods specific to each subclass\n",
    "dog.bark()  # Output: Buddy is barking.\n",
    "cat.meow()  # Output: Whiskers is meowing.\n"
   ]
  }
 ],
 "metadata": {
  "kernelspec": {
   "display_name": "Python 3 (ipykernel)",
   "language": "python",
   "name": "python3"
  },
  "language_info": {
   "codemirror_mode": {
    "name": "ipython",
    "version": 3
   },
   "file_extension": ".py",
   "mimetype": "text/x-python",
   "name": "python",
   "nbconvert_exporter": "python",
   "pygments_lexer": "ipython3",
   "version": "3.10.5"
  }
 },
 "nbformat": 4,
 "nbformat_minor": 5
}
